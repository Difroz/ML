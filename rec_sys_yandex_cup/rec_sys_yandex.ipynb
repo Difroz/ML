{
 "cells": [
  {
   "cell_type": "code",
   "execution_count": 1,
   "id": "4649441c",
   "metadata": {},
   "outputs": [],
   "source": [
    "import requests\n",
    "from itertools import islice \n",
    "import io\n",
    "import json\n",
    "import pandas as pd\n",
    "import numpy as np\n",
    "import zipfile as zf\n",
    "from scipy import sparse as sp\n",
    "from tqdm.notebook import tqdm\n",
    "from urllib.parse import quote as qt\n",
    "from implicit.als import AlternatingLeastSquares\n",
    "from implicit.nearest_neighbours import CosineRecommender, bm25_weight\n",
    "from sklearn.model_selection import train_test_split\n",
    "from lightgbm import LGBMRanker\n",
    "from gensim.models import Word2Vec, KeyedVectors\n",
    "from multiprocessing import Pool\n",
    "from collections import defaultdict, Counter"
   ]
  },
  {
   "cell_type": "code",
   "execution_count": 2,
   "id": "dec74645",
   "metadata": {},
   "outputs": [],
   "source": [
    "base_url = 'https://cloud-api.yandex.net/v1/disk/resources/download?'\n",
    "folder_url = 'https://disk.yandex.ru/d/SI1aAooPn9i8TA'\n",
    "file_url = 'likes_data.zip'\n",
    "url = 'https://cloud-api.yandex.net/v1/disk/public/resources/download' + '?public_key=' + qt(folder_url) + '&path=/' + qt(file_url)\n",
    "r = requests.get(url) # запрос ссылки на скачивание\n",
    "h = json.loads(r.text)['href'] # 'парсинг' ссылки на скачивание\n",
    "download_response = requests.get(h, stream=True)\n",
    "z = zf.ZipFile(io.BytesIO(download_response.content))\n",
    "\n",
    "with z.open('track_artists.csv') as f:\n",
    "    df_tracks = pd.read_csv(f)"
   ]
  },
  {
   "cell_type": "code",
   "execution_count": 3,
   "id": "4d9c47cc",
   "metadata": {},
   "outputs": [],
   "source": [
    "class ItemEncoder:\n",
    "    \n",
    "    def __init__(self, items):\n",
    "        self.item_idx = {}\n",
    "        self.item_pid = {}\n",
    "        if type(items) == pd.DataFrame:\n",
    "            self.item_idx = items[items.columns[0]].to_dict()\n",
    "            self.item_pid = items.reset_index().set_index(items.columns[0])['index'].to_dict()\n",
    "        else:\n",
    "            for idx, pid in enumerate(items):\n",
    "                self.item_idx[pid] = idx\n",
    "                self.item_pid[idx] = pid\n",
    "    \n",
    "    def to_idx(self,items):\n",
    "        '''\n",
    "        Получить значения по индексу\n",
    "        '''\n",
    "        if len(items) == 1:\n",
    "            return self.item_idx[items[0]]\n",
    "        return list(map(lambda x: self.item_idx[int(x)], items))\n",
    "    \n",
    "    def to_pid(self,p_list):\n",
    "        '''\n",
    "        Получить индекс по значению\n",
    "        '''\n",
    "        if len(p_list) == 1:\n",
    "            return [self.item_pid[int(p_list[0])]]\n",
    "        return list(map(lambda x: self.item_pid[int(x)], p_list))\n",
    "    \n",
    "    def make_csr_data(self, data):\n",
    "        '''\n",
    "        Создание матрицы user/items\n",
    "        '''\n",
    "        rows = [0]\n",
    "        cols = []\n",
    "        values = []\n",
    "        for user in tqdm(data):\n",
    "            idx_col = self.to_pid(user)\n",
    "            value = list(np.ones(len(user)))\n",
    "            cols.extend(idx_col)\n",
    "            values.extend(value)\n",
    "            rows.append(len(cols))\n",
    "        return sp.csr_matrix((values, cols,rows),dtype='float64')\n",
    "\n",
    "\n",
    "class CooccurrenceRecommender:\n",
    "    def __init__(self, dist = 1, ):\n",
    "        self.d = defaultdict(dict)\n",
    "        self.distance = dist\n",
    "    \n",
    "    def fit(self, X):\n",
    "        for user in tqdm(X):\n",
    "            start = len(user) // 2\n",
    "            end = len(user)\n",
    "            for i in range(start,end):\n",
    "                try:\n",
    "                    self.d[user[i]][user[i+self.distance]] = self.d[user[i]].get(user[i+self.distance], 0) + 1\n",
    "                except:\n",
    "                    continue\n",
    "    \n",
    "    def predict(self, X, pos=-1, topn=100):\n",
    "        result = []\n",
    "        for user in tqdm(X):\n",
    "            res = list(map(lambda x: x[0],Counter(self.d[str(user[pos])]).most_common(topn)))\n",
    "            result.append(res)\n",
    "        return result\n",
    "\n",
    "\n",
    "class SplitData:\n",
    "    def __init__(self, path, size=0.7, ):\n",
    "        self.size = size\n",
    "        self.path = path\n",
    "  \n",
    "    def read_data(self):\n",
    "        with z.open(self.path) as f:\n",
    "            data = map(lambda x: x.decode('ascii').strip().split(' '), f.readlines())\n",
    "        return data \n",
    "  \n",
    "    def split_X1(self):\n",
    "        for user in self.read_data():\n",
    "            l = int(len(user) * self.size)\n",
    "            X1 = user[:l]\n",
    "            yield X1\n",
    "\n",
    "    def split_X2(self):\n",
    "        for user in self.read_data():\n",
    "            l = int(len(user) * self.size)\n",
    "            X2 = user[l:]\n",
    "            yield X2\n",
    "\n",
    "\n",
    "def score(X, y):\n",
    "    cou = 0\n",
    "    for k, user in enumerate(tqdm(X)):\n",
    "        user = list(map(int, user))\n",
    "        if int(y[k]) in user:\n",
    "            cou += 1 / (list(user).index(int(y[k]))+1)\n",
    "        else:\n",
    "            cou += 0\n",
    "    print('Scor: {}'.format(cou/len(y)))\n",
    "\n",
    "def make_y(data):\n",
    "    X=[]\n",
    "    y = []\n",
    "    for i in tqdm(data):\n",
    "        X.append(list(map(int,i[:-1])))\n",
    "        y.append(i[-1])\n",
    "    return X, y\n",
    "\n",
    "def make_top_als(model, X_test,  X_gbm=None, n=100):\n",
    "    user_ids = np.arange(X_test.shape[0])\n",
    "    rec, scores = model.recommend(user_ids, X_test, N=n,filter_already_liked_items=True, recalculate_user=True)\n",
    "    result = np.array(list(map(lambda x: tracks.to_idx(x), rec)))\n",
    "    us_id = np.ones((rec.shape[0], n)) * np.arange(rec.shape[0])[:,np.newaxis]\n",
    "    rank = np.array(list(map(lambda x: np.argsort(-x), scores))).ravel()\n",
    "    if X_gbm:\n",
    "        target = get_target(result,X_gbm)\n",
    "        print('us_ids: {}\\nres: {}\\nscores: {}\\ntarget: {}'.format(us_id.shape,  result.shape, scores.shape, target.shape))\n",
    "        out_put = np.vstack([us_id.ravel(), result.ravel(), scores.ravel(), rank, target.ravel()])\n",
    "        return out_put\n",
    "    out_put = np.vstack([us_id.ravel(), result.ravel(), scores.ravel(), rank])\n",
    "    return out_put"
   ]
  },
  {
   "cell_type": "code",
   "execution_count": 4,
   "id": "a845acd1",
   "metadata": {},
   "outputs": [],
   "source": [
    "data_train = SplitData(size=0.8, path='train')\n",
    "data_test = SplitData(size=0.5, path='test')"
   ]
  },
  {
   "cell_type": "code",
   "execution_count": 5,
   "id": "5ea0691e",
   "metadata": {},
   "outputs": [
    {
     "data": {
      "application/vnd.jupyter.widget-view+json": {
       "model_id": "98653f92753741099d4bac96576a505e",
       "version_major": 2,
       "version_minor": 0
      },
      "text/plain": [
       "0it [00:00, ?it/s]"
      ]
     },
     "metadata": {},
     "output_type": "display_data"
    }
   ],
   "source": [
    "n = 900000\n",
    "X_train_full = data_train.read_data()\n",
    "X_train_1 = islice(data_train.split_X1(),0,n)\n",
    "X_train_2 = islice(data_train.split_X2(),0,n)\n",
    "X_test, y = make_y(islice(data_test.split_X1(), 0, 100000))"
   ]
  },
  {
   "cell_type": "code",
   "execution_count": 6,
   "id": "79034ee8",
   "metadata": {
    "scrolled": true
   },
   "outputs": [
    {
     "data": {
      "application/vnd.jupyter.widget-view+json": {
       "model_id": "ce31dd6009a04e4693e020de44e9db72",
       "version_major": 2,
       "version_minor": 0
      },
      "text/plain": [
       "0it [00:00, ?it/s]"
      ]
     },
     "metadata": {},
     "output_type": "display_data"
    },
    {
     "data": {
      "application/vnd.jupyter.widget-view+json": {
       "model_id": "78f64c91a8bd44b185fe3a7ac9737516",
       "version_major": 2,
       "version_minor": 0
      },
      "text/plain": [
       "  0%|          | 0/100000 [00:00<?, ?it/s]"
      ]
     },
     "metadata": {},
     "output_type": "display_data"
    }
   ],
   "source": [
    "tracks = ItemEncoder(df_tracks[['trackId']])\n",
    "X_train_als = tracks.make_csr_data(X_train_full)\n",
    "X_test_als = tracks.make_csr_data(X_test)\n",
    "user_track_bm25 = bm25_weight(X_train_als)"
   ]
  },
  {
   "cell_type": "code",
   "execution_count": 7,
   "id": "ab8c43d4",
   "metadata": {},
   "outputs": [
    {
     "name": "stderr",
     "output_type": "stream",
     "text": [
      "E:\\anaconda3\\envs\\ds\\lib\\site-packages\\implicit\\utils.py:33: UserWarning: Intel MKL BLAS detected. Its highly recommend to set the environment variable 'export MKL_NUM_THREADS=1' to disable its internal multithreading\n",
      "  warnings.warn(\n",
      "E:\\anaconda3\\envs\\ds\\lib\\site-packages\\implicit\\utils.py:138: ParameterWarning: Method expects CSR input, and was passed coo_matrix instead. Converting to CSR took 5.3650970458984375 seconds\n",
      "  warnings.warn(\n"
     ]
    },
    {
     "data": {
      "application/vnd.jupyter.widget-view+json": {
       "model_id": "73b9c581611f4705bdb925490afa27d4",
       "version_major": 2,
       "version_minor": 0
      },
      "text/plain": [
       "  0%|          | 0/2 [00:00<?, ?it/s]"
      ]
     },
     "metadata": {},
     "output_type": "display_data"
    }
   ],
   "source": [
    "model_als = AlternatingLeastSquares(factors=300, iterations=2, num_threads=-1)\n",
    "model_als.fit(user_track_bm25)"
   ]
  },
  {
   "cell_type": "code",
   "execution_count": 8,
   "id": "95076dff",
   "metadata": {},
   "outputs": [
    {
     "data": {
      "application/vnd.jupyter.widget-view+json": {
       "model_id": "af3d771871604fac85308ba44c74bf29",
       "version_major": 2,
       "version_minor": 0
      },
      "text/plain": [
       "  0%|          | 0/100000 [00:00<?, ?it/s]"
      ]
     },
     "metadata": {},
     "output_type": "display_data"
    },
    {
     "name": "stdout",
     "output_type": "stream",
     "text": [
      "Scor: 0.03817243388048856\n"
     ]
    }
   ],
   "source": [
    "top_200_test = make_top_als(model_als, X_test_als, n=100)\n",
    "res = top_200_test[1].reshape(-1,100)[:,:100]\n",
    "score(res, y)"
   ]
  },
  {
   "cell_type": "code",
   "execution_count": 9,
   "id": "5259dc6d",
   "metadata": {},
   "outputs": [
    {
     "data": {
      "application/vnd.jupyter.widget-view+json": {
       "model_id": "ae189399f8f9496597bfa6b93d83deae",
       "version_major": 2,
       "version_minor": 0
      },
      "text/plain": [
       "0it [00:00, ?it/s]"
      ]
     },
     "metadata": {},
     "output_type": "display_data"
    },
    {
     "data": {
      "application/vnd.jupyter.widget-view+json": {
       "model_id": "32c40302a4fd44f997629ab5fb3343b1",
       "version_major": 2,
       "version_minor": 0
      },
      "text/plain": [
       "0it [00:00, ?it/s]"
      ]
     },
     "metadata": {},
     "output_type": "display_data"
    },
    {
     "data": {
      "application/vnd.jupyter.widget-view+json": {
       "model_id": "e85f542609e846598a1bf40c24e2e681",
       "version_major": 2,
       "version_minor": 0
      },
      "text/plain": [
       "  0%|          | 0/100000 [00:00<?, ?it/s]"
      ]
     },
     "metadata": {},
     "output_type": "display_data"
    },
    {
     "data": {
      "application/vnd.jupyter.widget-view+json": {
       "model_id": "c8eb11bda4c64836b528908a2b5fce14",
       "version_major": 2,
       "version_minor": 0
      },
      "text/plain": [
       "  0%|          | 0/100000 [00:00<?, ?it/s]"
      ]
     },
     "metadata": {},
     "output_type": "display_data"
    },
    {
     "name": "stdout",
     "output_type": "stream",
     "text": [
      "Scor: 0.05327767220140505\n"
     ]
    }
   ],
   "source": [
    "#реализовал решение после завершения соревнований\n",
    "n = 900000\n",
    "X_train_full = data_train.read_data()\n",
    "X_train_1 = islice(data_train.split_X1(),0,n)\n",
    "X_train_2 = islice(data_train.split_X2(),0,n)\n",
    "X_test, y = make_y(islice(data_test.split_X1(), 0, 100000))\n",
    "\n",
    "X_train_1 = islice(data_train.split_X1(),0,n)\n",
    "model_co = CooccurrenceRecommender()\n",
    "model_co.fit(X_train_full)\n",
    "pred = model_co.predict(X_test)\n",
    "score(pred,y)"
   ]
  },
  {
   "cell_type": "code",
   "execution_count": null,
   "id": "38baea9d",
   "metadata": {},
   "outputs": [],
   "source": []
  }
 ],
 "metadata": {
  "kernelspec": {
   "display_name": "Python 3 (ipykernel)",
   "language": "python",
   "name": "python3"
  },
  "language_info": {
   "codemirror_mode": {
    "name": "ipython",
    "version": 3
   },
   "file_extension": ".py",
   "mimetype": "text/x-python",
   "name": "python",
   "nbconvert_exporter": "python",
   "pygments_lexer": "ipython3",
   "version": "3.10.0"
  }
 },
 "nbformat": 4,
 "nbformat_minor": 5
}
