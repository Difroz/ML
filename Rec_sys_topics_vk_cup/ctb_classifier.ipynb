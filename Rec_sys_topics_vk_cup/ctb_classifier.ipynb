{
 "cells": [
  {
   "cell_type": "code",
   "execution_count": null,
   "id": "a3a673f6",
   "metadata": {},
   "outputs": [],
   "source": [
    "import pandas as pd\n",
    "import numpy as np\n",
    "from catboost import CatBoostRanker,CatBoostClassifier, Pool, MetricVisualizer\n",
    "from sklearn.model_selection import train_test_split\n",
    "from sklearn.metrics import roc_auc_score\n",
    "from sklearn.utils import shuffle\n",
    "from tools import compute_metrics\n",
    "from copy import deepcopy"
   ]
  },
  {
   "cell_type": "code",
   "execution_count": null,
   "id": "3e991002",
   "metadata": {},
   "outputs": [],
   "source": [
    "local_test = pd.read_parquet('files/local_test.parquet.gzip')\n",
    "\n",
    "candidates_als = pd.read_parquet('files/candidates_als_train.parquet.gzip')"
   ]
  },
  {
   "cell_type": "code",
   "execution_count": null,
   "id": "14913a38",
   "metadata": {},
   "outputs": [],
   "source": [
    "user_features = pd.read_parquet('files/user_features.parquet.gzip')\n",
    "item_features = pd.read_parquet('files/item_features.parquet.gzip')"
   ]
  },
  {
   "cell_type": "code",
   "execution_count": null,
   "id": "e60aa955",
   "metadata": {},
   "outputs": [],
   "source": [
    "user_features.head()"
   ]
  },
  {
   "cell_type": "code",
   "execution_count": null,
   "id": "fdd9b230",
   "metadata": {},
   "outputs": [],
   "source": [
    "item_features.head()"
   ]
  },
  {
   "cell_type": "code",
   "execution_count": null,
   "id": "ef2ca6e7",
   "metadata": {},
   "outputs": [],
   "source": [
    "item_features['source_id'] = item_features['source_id'].astype('category')\n",
    "item_features['item_id'] = item_features['item_id'].astype('int32')\n",
    "item_features['likes'] = item_features['likes'].astype('int32')\n",
    "item_features['no_likes'] = item_features['no_likes'].astype('int32')\n",
    "item_features['dislikes'] = item_features['dislikes'].astype('int32')"
   ]
  },
  {
   "cell_type": "markdown",
   "id": "fc6b3600",
   "metadata": {},
   "source": [
    "## Подготовка данных для ранжирования"
   ]
  },
  {
   "cell_type": "code",
   "execution_count": null,
   "id": "a1978631",
   "metadata": {},
   "outputs": [],
   "source": [
    "df_predict_als = candidates_als.explode('item_id').astype('int32')\n",
    "df_predict_als['rank'] = (df_predict_als.groupby('user_id').cumcount() + 1).astype('int32')\n",
    "df_predict_als.head()"
   ]
  },
  {
   "cell_type": "code",
   "execution_count": null,
   "id": "2c6df638",
   "metadata": {},
   "outputs": [],
   "source": [
    "def make_target(predict, true_data):\n",
    "    #positive\n",
    "    df_train = predict.merge(true_data, on=['user_id', 'item_id'], how='inner')\n",
    "    df_train['target'] = 1\n",
    "    df_train['target'] = df_train['target'].astype('int8')\n",
    "    # negative\n",
    "    neg = predict.merge(true_data, on=['user_id', 'item_id'], how='left')\n",
    "    neg = neg[neg['timespent'].isnull()]\n",
    "    neg = neg.groupby('user_id').sample(frac=0.07)\n",
    "    neg['target'] = 0\n",
    "    neg['timespent'] = neg['timespent'].astype('float16')\n",
    "    neg['reaction'] = neg['reaction'].astype('float16')\n",
    "    neg['target'] = neg['target'].astype('int8')\n",
    "    df_train = pd.concat([df_train,neg])\n",
    "    return df_train"
   ]
  },
  {
   "cell_type": "code",
   "execution_count": null,
   "id": "fcf31247",
   "metadata": {},
   "outputs": [],
   "source": [
    "df_train = make_target(df_predict_als, local_test)\n",
    "df_train.head()"
   ]
  },
  {
   "cell_type": "code",
   "execution_count": null,
   "id": "ebb150bc",
   "metadata": {},
   "outputs": [],
   "source": [
    "#split train/test user_ids\n",
    "cat_train_id, cat_test_id = train_test_split(local_test['user_id'].unique(), test_size=0.2)\n",
    "\n",
    "#split train for validate user_ids\n",
    "cat_train_id, cat_eval_id =  train_test_split(cat_train_id, test_size=0.1)"
   ]
  },
  {
   "cell_type": "code",
   "execution_count": null,
   "id": "26999946",
   "metadata": {},
   "outputs": [],
   "source": [
    "cols = ['user_id', 'item_id', 'rank', 'target']\n",
    "\n",
    "#Train data\n",
    "ctb_train = shuffle(\n",
    "    df_train.loc[df_train['user_id'].isin(cat_train_id)][cols]\n",
    ")\n",
    "\n",
    "#Test data\n",
    "ctb_test = shuffle(\n",
    "    df_train.loc[df_train['user_id'].isin(cat_test_id)][cols]\n",
    ")\n",
    "\n",
    "#Val data\n",
    "ctb_val = shuffle(\n",
    "    df_train.loc[df_train['user_id'].isin(cat_eval_id)][cols]\n",
    ")\n"
   ]
  },
  {
   "cell_type": "code",
   "execution_count": null,
   "id": "095da6fe",
   "metadata": {},
   "outputs": [],
   "source": [
    "item_col = ['item_id', 'likes', 'dislikes', 'sum_time', 'mean_time', 'source_id']"
   ]
  },
  {
   "cell_type": "code",
   "execution_count": null,
   "id": "5c839665",
   "metadata": {},
   "outputs": [],
   "source": [
    "train_feature = ctb_train.merge(item_features[item_col], \n",
    "                                on=['item_id'], \n",
    "                                how='left'\n",
    "                               ).merge(user_features, on=['user_id'], how='left')\n",
    "\n",
    "val_feature = ctb_val.merge(item_features[item_col], \n",
    "                                on=['item_id'], \n",
    "                                how='left'\n",
    "                               ).merge(user_features, on=['user_id'], how='left')\n",
    "\n",
    "test_feature = ctb_test.merge(item_features[item_col], \n",
    "                                on=['item_id'], \n",
    "                                how='left'\n",
    "                               ).merge(user_features, on=['user_id'], how='left')"
   ]
  },
  {
   "cell_type": "markdown",
   "id": "765161cd",
   "metadata": {},
   "source": [
    "# X,y"
   ]
  },
  {
   "cell_type": "code",
   "execution_count": null,
   "id": "a460523f",
   "metadata": {},
   "outputs": [],
   "source": [
    "drop_col = ['user_id', 'item_id']\n",
    "target_col = ['target']\n",
    "cat_col = ['source_id']"
   ]
  },
  {
   "cell_type": "code",
   "execution_count": null,
   "id": "1019e92d",
   "metadata": {},
   "outputs": [],
   "source": [
    "X_train, y_train = train_feature.drop(columns=drop_col + target_col, axis=1), train_feature[target_col]\n",
    "X_val, y_val = val_feature.drop(columns=drop_col + target_col, axis=1), val_feature[target_col]\n",
    "X_test, y_test = test_feature.drop(columns=drop_col + target_col, axis=1), test_feature[target_col]"
   ]
  },
  {
   "cell_type": "code",
   "execution_count": null,
   "id": "8576709f",
   "metadata": {},
   "outputs": [],
   "source": [
    "est_param = {\n",
    "    'subsample': 0.9,\n",
    "    'max_depth': 4,\n",
    "    'n_estimators': 150,\n",
    "    'learning_rate':0.1,\n",
    "    'thread_count': -1,\n",
    "    'random_state': 42,\n",
    "    'verbose': 100,\n",
    "}\n",
    "\n",
    "ctb_model = CatBoostClassifier(**est_param)"
   ]
  },
  {
   "cell_type": "code",
   "execution_count": null,
   "id": "9ba1d455",
   "metadata": {},
   "outputs": [],
   "source": [
    "ctb_model.fit(X_train, y_train, \n",
    "              eval_set=(X_val, y_val), \n",
    "              early_stopping_rounds=20, \n",
    "              cat_features=cat_col, \n",
    "              plot=True)\n",
    "ctb_model.save_model('ctb_model')"
   ]
  },
  {
   "cell_type": "code",
   "execution_count": null,
   "id": "80cb6816",
   "metadata": {},
   "outputs": [],
   "source": [
    "y_pred = ctb_model.predict_proba(X_test)\n",
    "'ROC_AUC = {:.2f}'.format(roc_auc_score(y_test, y_pred[:,1]))"
   ]
  },
  {
   "cell_type": "markdown",
   "id": "5bdbf4c3",
   "metadata": {},
   "source": [
    "# Метрика на глобальном тесте"
   ]
  },
  {
   "cell_type": "code",
   "execution_count": null,
   "id": "27dc463e",
   "metadata": {},
   "outputs": [],
   "source": [
    "als_ctb_data = df_predict_als.merge(item_features[item_col], \n",
    "                                on=['item_id'], \n",
    "                                how='left'\n",
    "                               ).merge(user_features, on=['user_id'], how='left')\n",
    "als_ctb_data = als_ctb_data.drop(columns=['user_id', 'item_id'])\n",
    "als_ctb_data .head()"
   ]
  },
  {
   "cell_type": "code",
   "execution_count": null,
   "id": "c6f193df",
   "metadata": {},
   "outputs": [],
   "source": [
    "ctb_model = CatBoostClassifier()\n",
    "ctb_model.load_model('ctb_model')"
   ]
  },
  {
   "cell_type": "code",
   "execution_count": null,
   "id": "75ae61b2",
   "metadata": {},
   "outputs": [],
   "source": [
    "df_predict_als['ctb_pred'] = ctb_model.predict_proba(als_ctb_data)[:,1].astype('float32')\n",
    "df_predict_als.head()"
   ]
  },
  {
   "cell_type": "code",
   "execution_count": null,
   "id": "68e7d8dd",
   "metadata": {},
   "outputs": [],
   "source": [
    "df_predict_als = df_predict_als.sort_values(by=['user_id', 'ctb_pred'], ascending=[True, False])\n",
    "df_predict_als['rank_ctb'] = (df_predict_als.groupby('user_id').cumcount() + 1).astype('int32')\n",
    "df_predict_als.to_parquet('files/als_ctb_predicted.parquet.gzip')\n",
    "df_predict_als.head()"
   ]
  },
  {
   "cell_type": "code",
   "execution_count": null,
   "id": "3bf79039",
   "metadata": {},
   "outputs": [],
   "source": [
    "df_predic = pd.read_parquet('files/als_ctb_predicted.parquet.gzip')\n",
    "df_predic.head()"
   ]
  },
  {
   "cell_type": "code",
   "execution_count": null,
   "id": "8be603c0",
   "metadata": {},
   "outputs": [],
   "source": [
    "df_test_full = pd.read_parquet('files/test_full.parquet.gzip')"
   ]
  },
  {
   "cell_type": "code",
   "execution_count": null,
   "id": "4fcb1643",
   "metadata": {},
   "outputs": [],
   "source": [
    "metrics_als = compute_metrics(df_test_full[['user_id', 'item_id']], df_predic, top_N=20, rank_col='rank')\n",
    "metrics_als"
   ]
  },
  {
   "cell_type": "code",
   "execution_count": null,
   "id": "60c09b4a",
   "metadata": {},
   "outputs": [],
   "source": [
    "metrics_als_ctb = compute_metrics(df_test_full[['user_id', 'item_id']], df_predic, top_N=20, rank_col='rank_ctb')\n",
    "metrics_als_ctb"
   ]
  },
  {
   "cell_type": "code",
   "execution_count": null,
   "id": "deae6c15",
   "metadata": {},
   "outputs": [],
   "source": [
    "full_metrics = {}\n",
    "for i,v in metrics_als.items():\n",
    "    full_metrics[i] = [v,metrics_als_ctb[i]]\n",
    "full_metrics"
   ]
  },
  {
   "cell_type": "code",
   "execution_count": null,
   "id": "84611cb8",
   "metadata": {},
   "outputs": [],
   "source": [
    "pd.DataFrame(full_metrics).to_csv('files/metrics.csv')"
   ]
  },
  {
   "cell_type": "code",
   "execution_count": null,
   "id": "9de6305c",
   "metadata": {},
   "outputs": [],
   "source": []
  }
 ],
 "metadata": {
  "kernelspec": {
   "display_name": "Python 3 (ipykernel)",
   "language": "python",
   "name": "python3"
  },
  "language_info": {
   "codemirror_mode": {
    "name": "ipython",
    "version": 3
   },
   "file_extension": ".py",
   "mimetype": "text/x-python",
   "name": "python",
   "nbconvert_exporter": "python",
   "pygments_lexer": "ipython3",
   "version": "3.10.0"
  }
 },
 "nbformat": 4,
 "nbformat_minor": 5
}
