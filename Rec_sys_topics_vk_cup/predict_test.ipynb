{
 "cells": [
  {
   "cell_type": "code",
   "execution_count": 1,
   "id": "90743c21",
   "metadata": {},
   "outputs": [],
   "source": [
    "import pandas as pd\n",
    "import numpy as np\n",
    "from tools import ItemEncoder, get_rec_als, split_data\n",
    "from prepare_data import make_data\n",
    "from scipy import sparse as sp\n",
    "from tqdm.notebook import tqdm\n",
    "from implicit.als import AlternatingLeastSquares\n",
    "from implicit.nearest_neighbours import bm25_weight\n",
    "from implicit.evaluation import train_test_split, ndcg_at_k, precision_at_k, AUC_at_k\n",
    "from catboost import CatBoostRanker, Pool, MetricVisualizer\n",
    "from sklearn.model_selection import train_test_split\n",
    "from tools import compute_metrics\n",
    "from copy import deepcopy"
   ]
  },
  {
   "cell_type": "code",
   "execution_count": 2,
   "id": "c4a5d2e2",
   "metadata": {},
   "outputs": [],
   "source": [
    "metrics = pd.read_csv('files/metrics.csv',index_col=[0])"
   ]
  },
  {
   "cell_type": "code",
   "execution_count": 3,
   "id": "55ba7cd3",
   "metadata": {},
   "outputs": [
    {
     "data": {
      "text/html": [
       "<div>\n",
       "<style scoped>\n",
       "    .dataframe tbody tr th:only-of-type {\n",
       "        vertical-align: middle;\n",
       "    }\n",
       "\n",
       "    .dataframe tbody tr th {\n",
       "        vertical-align: top;\n",
       "    }\n",
       "\n",
       "    .dataframe thead th {\n",
       "        text-align: right;\n",
       "    }\n",
       "</style>\n",
       "<table border=\"1\" class=\"dataframe\">\n",
       "  <thead>\n",
       "    <tr style=\"text-align: right;\">\n",
       "      <th></th>\n",
       "      <th>name_model</th>\n",
       "      <th>Precision@20</th>\n",
       "      <th>Recall@20</th>\n",
       "      <th>MAP@20</th>\n",
       "      <th>MRR</th>\n",
       "    </tr>\n",
       "  </thead>\n",
       "  <tbody>\n",
       "    <tr>\n",
       "      <th>0</th>\n",
       "      <td>implicit_als</td>\n",
       "      <td>0.006300</td>\n",
       "      <td>0.033383</td>\n",
       "      <td>0.009916</td>\n",
       "      <td>0.029859</td>\n",
       "    </tr>\n",
       "    <tr>\n",
       "      <th>1</th>\n",
       "      <td>implicit_als_ctb_class</td>\n",
       "      <td>0.008508</td>\n",
       "      <td>0.043602</td>\n",
       "      <td>0.013360</td>\n",
       "      <td>0.029859</td>\n",
       "    </tr>\n",
       "    <tr>\n",
       "      <th>0</th>\n",
       "      <td>implicit_als_ctb_rank</td>\n",
       "      <td>0.002676</td>\n",
       "      <td>0.012161</td>\n",
       "      <td>0.003872</td>\n",
       "      <td>0.029859</td>\n",
       "    </tr>\n",
       "    <tr>\n",
       "      <th>0</th>\n",
       "      <td>implicit_als_rank2split</td>\n",
       "      <td>0.003089</td>\n",
       "      <td>0.014593</td>\n",
       "      <td>0.004338</td>\n",
       "      <td>0.029859</td>\n",
       "    </tr>\n",
       "  </tbody>\n",
       "</table>\n",
       "</div>"
      ],
      "text/plain": [
       "                name_model  Precision@20  Recall@20    MAP@20       MRR\n",
       "0             implicit_als      0.006300   0.033383  0.009916  0.029859\n",
       "1   implicit_als_ctb_class      0.008508   0.043602  0.013360  0.029859\n",
       "0    implicit_als_ctb_rank      0.002676   0.012161  0.003872  0.029859\n",
       "0  implicit_als_rank2split      0.003089   0.014593  0.004338  0.029859"
      ]
     },
     "execution_count": 3,
     "metadata": {},
     "output_type": "execute_result"
    }
   ],
   "source": [
    "metrics"
   ]
  },
  {
   "cell_type": "code",
   "execution_count": null,
   "id": "4abeb23f",
   "metadata": {},
   "outputs": [],
   "source": [
    "train = pd.read_parquet('files/vk_data/train.parquet.gzip')\n",
    "test = pd.read_parquet('files/vk_data/fresh_candidates.parquet.gzip')"
   ]
  },
  {
   "cell_type": "code",
   "execution_count": null,
   "id": "74f365f0",
   "metadata": {},
   "outputs": [],
   "source": [
    "user_features = pd.read_parquet('files/user_features.parquet.gzip').reset_index()\n",
    "item_features = pd.read_parquet('files/item_features.parquet.gzip')"
   ]
  },
  {
   "cell_type": "code",
   "execution_count": null,
   "id": "018c1e0b",
   "metadata": {},
   "outputs": [],
   "source": [
    "#ALS candidates\n",
    "coder = ItemEncoder(train)\n",
    "user_items_interaction = coder.make_csr_data(train)\n",
    "user_items_weights = coder.make_csr_data(train, weights='timespent')\n",
    "bm25_int = bm25_weight(user_items_interaction, K1=80, B=0.8).tocsr()\n",
    "bm25_weights = bm25_weight(user_items_weights, K1=80, B=0.8).tocsr()"
   ]
  },
  {
   "cell_type": "code",
   "execution_count": null,
   "id": "065e4c6f",
   "metadata": {},
   "outputs": [],
   "source": [
    "model_als = AlternatingLeastSquares(factors=200, iterations=2, num_threads=-1, random_state=42)\n",
    "model_als.fit(bm25_weights)\n",
    "users, rec = get_rec_als(model_als, local_train['user_id'].unique(), bm25_weights, coder)\n",
    "candidates_als = pd.DataFrame({'user_id':users, 'item_id': rec})\n",
    "candidates_als.head()"
   ]
  },
  {
   "cell_type": "code",
   "execution_count": null,
   "id": "f256e03a",
   "metadata": {},
   "outputs": [],
   "source": [
    "df_predict_als = candidates_als.explode('item_id').astype('int32')\n",
    "df_predict_als['rank'] = (df_predict_als.groupby('user_id').cumcount() + 1).astype('int32')\n",
    "df_predict_als.head()"
   ]
  },
  {
   "cell_type": "code",
   "execution_count": null,
   "id": "b9146cc7",
   "metadata": {},
   "outputs": [],
   "source": [
    "model = CatBoostRanker()\n",
    "#model.load_model('files/ctb_rank')\n",
    "#model.load_model('files/ctb_rank_2split_data')\n",
    "#model.load_model('files/ctb_rank_2split_data')\n",
    "model.load_model('files/ctb_rank_2split_data_quant')"
   ]
  },
  {
   "cell_type": "code",
   "execution_count": null,
   "id": "cc3f7583",
   "metadata": {},
   "outputs": [],
   "source": [
    "als_ctb_data = df_predict_als.merge(item_features[item_col], \n",
    "                                on=['item_id'], \n",
    "                                how='left'\n",
    "                               ).merge(user_features, on=['user_id'], how='left').sort_values(by=['user_id'])\n",
    "als_ctb_data = als_ctb_data.drop(columns=['user_id', 'item_id'])\n",
    "#als_ctb_data.to_parquet('files/als_ctb_data_full_test.parquet.gzip')\n",
    "als_ctb_data .head()"
   ]
  },
  {
   "cell_type": "code",
   "execution_count": null,
   "id": "1de9bfe1",
   "metadata": {},
   "outputs": [],
   "source": [
    "full_test_p = Pool(\n",
    "    data=als_ctb_data,\n",
    "    group_id=qied_full_test,\n",
    "    cat_features=['source_id'],\n",
    "    #embedding_features=['embeddings']\n",
    ")"
   ]
  },
  {
   "cell_type": "code",
   "execution_count": null,
   "id": "b02bd798",
   "metadata": {},
   "outputs": [],
   "source": [
    "df_predict = predict_rank(model, full_test_p, df_predict_als)"
   ]
  },
  {
   "cell_type": "code",
   "execution_count": null,
   "id": "4e68b21f",
   "metadata": {},
   "outputs": [],
   "source": []
  }
 ],
 "metadata": {
  "kernelspec": {
   "display_name": "Python 3 (ipykernel)",
   "language": "python",
   "name": "python3"
  },
  "language_info": {
   "codemirror_mode": {
    "name": "ipython",
    "version": 3
   },
   "file_extension": ".py",
   "mimetype": "text/x-python",
   "name": "python",
   "nbconvert_exporter": "python",
   "pygments_lexer": "ipython3",
   "version": "3.10.0"
  }
 },
 "nbformat": 4,
 "nbformat_minor": 5
}
