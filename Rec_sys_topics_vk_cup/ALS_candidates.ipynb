{
 "cells": [
  {
   "cell_type": "code",
   "execution_count": 1,
   "id": "994ad892",
   "metadata": {},
   "outputs": [],
   "source": [
    "import pandas as pd\n",
    "import numpy as np\n",
    "from tools import ItemEncoder, get_rec_als, split_data\n",
    "from scipy import sparse as sp\n",
    "from tqdm.notebook import tqdm\n",
    "from implicit.als import AlternatingLeastSquares\n",
    "from implicit.nearest_neighbours import bm25_weight\n",
    "from implicit.evaluation import train_test_split, ndcg_at_k, precision_at_k, AUC_at_k"
   ]
  },
  {
   "cell_type": "code",
   "execution_count": null,
   "id": "7763a508",
   "metadata": {},
   "outputs": [],
   "source": [
    "#split train to global_train and global_test. Make features and save to files\n",
    "#%run prepare_data.py"
   ]
  },
  {
   "cell_type": "code",
   "execution_count": 2,
   "id": "bae0b1d6",
   "metadata": {},
   "outputs": [
    {
     "data": {
      "text/html": [
       "<div>\n",
       "<style scoped>\n",
       "    .dataframe tbody tr th:only-of-type {\n",
       "        vertical-align: middle;\n",
       "    }\n",
       "\n",
       "    .dataframe tbody tr th {\n",
       "        vertical-align: top;\n",
       "    }\n",
       "\n",
       "    .dataframe thead th {\n",
       "        text-align: right;\n",
       "    }\n",
       "</style>\n",
       "<table border=\"1\" class=\"dataframe\">\n",
       "  <thead>\n",
       "    <tr style=\"text-align: right;\">\n",
       "      <th></th>\n",
       "      <th>user_id</th>\n",
       "      <th>item_id</th>\n",
       "      <th>timespent</th>\n",
       "      <th>reaction</th>\n",
       "    </tr>\n",
       "  </thead>\n",
       "  <tbody>\n",
       "    <tr>\n",
       "      <th>23738507</th>\n",
       "      <td>0</td>\n",
       "      <td>6009</td>\n",
       "      <td>1</td>\n",
       "      <td>0</td>\n",
       "    </tr>\n",
       "    <tr>\n",
       "      <th>23741945</th>\n",
       "      <td>0</td>\n",
       "      <td>224625</td>\n",
       "      <td>2</td>\n",
       "      <td>0</td>\n",
       "    </tr>\n",
       "    <tr>\n",
       "      <th>23754730</th>\n",
       "      <td>0</td>\n",
       "      <td>3814</td>\n",
       "      <td>1</td>\n",
       "      <td>0</td>\n",
       "    </tr>\n",
       "    <tr>\n",
       "      <th>32633576</th>\n",
       "      <td>0</td>\n",
       "      <td>201408</td>\n",
       "      <td>2</td>\n",
       "      <td>0</td>\n",
       "    </tr>\n",
       "    <tr>\n",
       "      <th>77635843</th>\n",
       "      <td>0</td>\n",
       "      <td>178379</td>\n",
       "      <td>1</td>\n",
       "      <td>0</td>\n",
       "    </tr>\n",
       "  </tbody>\n",
       "</table>\n",
       "</div>"
      ],
      "text/plain": [
       "          user_id  item_id  timespent  reaction\n",
       "23738507        0     6009          1         0\n",
       "23741945        0   224625          2         0\n",
       "23754730        0     3814          1         0\n",
       "32633576        0   201408          2         0\n",
       "77635843        0   178379          1         0"
      ]
     },
     "execution_count": 2,
     "metadata": {},
     "output_type": "execute_result"
    }
   ],
   "source": [
    "global_train = pd.read_parquet('files/train_full.parquet.gzip')\n",
    "global_train.head()"
   ]
  },
  {
   "cell_type": "code",
   "execution_count": 3,
   "id": "6b487260",
   "metadata": {},
   "outputs": [
    {
     "name": "stderr",
     "output_type": "stream",
     "text": [
      "100%|████████████████████████████████████████████████████████████████████| 1000183/1000183 [00:02<00:00, 491601.50it/s]\n"
     ]
    },
    {
     "data": {
      "text/html": [
       "<div>\n",
       "<style scoped>\n",
       "    .dataframe tbody tr th:only-of-type {\n",
       "        vertical-align: middle;\n",
       "    }\n",
       "\n",
       "    .dataframe tbody tr th {\n",
       "        vertical-align: top;\n",
       "    }\n",
       "\n",
       "    .dataframe thead th {\n",
       "        text-align: right;\n",
       "    }\n",
       "</style>\n",
       "<table border=\"1\" class=\"dataframe\">\n",
       "  <thead>\n",
       "    <tr style=\"text-align: right;\">\n",
       "      <th></th>\n",
       "      <th>user_id</th>\n",
       "      <th>item_id</th>\n",
       "      <th>timespent</th>\n",
       "      <th>reaction</th>\n",
       "    </tr>\n",
       "  </thead>\n",
       "  <tbody>\n",
       "    <tr>\n",
       "      <th>23738507</th>\n",
       "      <td>0</td>\n",
       "      <td>6009</td>\n",
       "      <td>1</td>\n",
       "      <td>0</td>\n",
       "    </tr>\n",
       "    <tr>\n",
       "      <th>23741945</th>\n",
       "      <td>0</td>\n",
       "      <td>224625</td>\n",
       "      <td>2</td>\n",
       "      <td>0</td>\n",
       "    </tr>\n",
       "    <tr>\n",
       "      <th>23754730</th>\n",
       "      <td>0</td>\n",
       "      <td>3814</td>\n",
       "      <td>1</td>\n",
       "      <td>0</td>\n",
       "    </tr>\n",
       "    <tr>\n",
       "      <th>32633576</th>\n",
       "      <td>0</td>\n",
       "      <td>201408</td>\n",
       "      <td>2</td>\n",
       "      <td>0</td>\n",
       "    </tr>\n",
       "    <tr>\n",
       "      <th>1174594</th>\n",
       "      <td>1</td>\n",
       "      <td>93689</td>\n",
       "      <td>2</td>\n",
       "      <td>0</td>\n",
       "    </tr>\n",
       "  </tbody>\n",
       "</table>\n",
       "</div>"
      ],
      "text/plain": [
       "          user_id  item_id  timespent  reaction\n",
       "23738507        0     6009          1         0\n",
       "23741945        0   224625          2         0\n",
       "23754730        0     3814          1         0\n",
       "32633576        0   201408          2         0\n",
       "1174594         1    93689          2         0"
      ]
     },
     "execution_count": 3,
     "metadata": {},
     "output_type": "execute_result"
    }
   ],
   "source": [
    "# Split Global train to local train/test\n",
    "local_train, local_test = split_data(global_train, test_size=0.2)\n",
    "local_train.head()"
   ]
  },
  {
   "cell_type": "code",
   "execution_count": 4,
   "id": "0ac7c1d7",
   "metadata": {},
   "outputs": [
    {
     "data": {
      "text/html": [
       "<div>\n",
       "<style scoped>\n",
       "    .dataframe tbody tr th:only-of-type {\n",
       "        vertical-align: middle;\n",
       "    }\n",
       "\n",
       "    .dataframe tbody tr th {\n",
       "        vertical-align: top;\n",
       "    }\n",
       "\n",
       "    .dataframe thead th {\n",
       "        text-align: right;\n",
       "    }\n",
       "</style>\n",
       "<table border=\"1\" class=\"dataframe\">\n",
       "  <thead>\n",
       "    <tr style=\"text-align: right;\">\n",
       "      <th></th>\n",
       "      <th>user_id</th>\n",
       "      <th>item_id</th>\n",
       "      <th>timespent</th>\n",
       "      <th>reaction</th>\n",
       "    </tr>\n",
       "  </thead>\n",
       "  <tbody>\n",
       "    <tr>\n",
       "      <th>77635843</th>\n",
       "      <td>0</td>\n",
       "      <td>178379</td>\n",
       "      <td>1</td>\n",
       "      <td>0</td>\n",
       "    </tr>\n",
       "    <tr>\n",
       "      <th>22981493</th>\n",
       "      <td>1</td>\n",
       "      <td>107288</td>\n",
       "      <td>1</td>\n",
       "      <td>0</td>\n",
       "    </tr>\n",
       "    <tr>\n",
       "      <th>22981494</th>\n",
       "      <td>1</td>\n",
       "      <td>126834</td>\n",
       "      <td>11</td>\n",
       "      <td>0</td>\n",
       "    </tr>\n",
       "    <tr>\n",
       "      <th>22981495</th>\n",
       "      <td>1</td>\n",
       "      <td>86036</td>\n",
       "      <td>3</td>\n",
       "      <td>0</td>\n",
       "    </tr>\n",
       "    <tr>\n",
       "      <th>25411473</th>\n",
       "      <td>1</td>\n",
       "      <td>28460</td>\n",
       "      <td>2</td>\n",
       "      <td>0</td>\n",
       "    </tr>\n",
       "  </tbody>\n",
       "</table>\n",
       "</div>"
      ],
      "text/plain": [
       "          user_id  item_id  timespent  reaction\n",
       "77635843        0   178379          1         0\n",
       "22981493        1   107288          1         0\n",
       "22981494        1   126834         11         0\n",
       "22981495        1    86036          3         0\n",
       "25411473        1    28460          2         0"
      ]
     },
     "execution_count": 4,
     "metadata": {},
     "output_type": "execute_result"
    }
   ],
   "source": [
    "local_test.head()"
   ]
  },
  {
   "cell_type": "code",
   "execution_count": 5,
   "id": "354d3c35",
   "metadata": {},
   "outputs": [
    {
     "data": {
      "text/plain": [
       "(214490, 177366)"
      ]
     },
     "execution_count": 5,
     "metadata": {},
     "output_type": "execute_result"
    }
   ],
   "source": [
    "local_train['item_id'].nunique(), local_test['item_id'].nunique()"
   ]
  },
  {
   "cell_type": "code",
   "execution_count": null,
   "id": "86e71267",
   "metadata": {},
   "outputs": [],
   "source": [
    "local_train.groupby('user_id')['item_id'].nunique().hist()\n",
    "local_test.groupby('user_id')['item_id'].nunique().hist(alpha=0.2);"
   ]
  },
  {
   "cell_type": "code",
   "execution_count": 8,
   "id": "0f554f25",
   "metadata": {},
   "outputs": [],
   "source": [
    "#local_train.to_parquet('files/local_train.parquet.gzip')\n",
    "#local_test.to_parquet('files/local_test.parquet.gzip')"
   ]
  },
  {
   "cell_type": "markdown",
   "id": "524ca2d1",
   "metadata": {},
   "source": [
    "# Подготовка кандидатов для модели ранжирования"
   ]
  },
  {
   "cell_type": "code",
   "execution_count": 6,
   "id": "5d7152b8",
   "metadata": {},
   "outputs": [],
   "source": [
    "# Make matrix\n",
    "coder = ItemEncoder(local_train)\n",
    "user_items_interaction = coder.make_csr_data(local_train)\n",
    "user_items_weights = coder.make_csr_data(local_train, weights='timespent')"
   ]
  },
  {
   "cell_type": "code",
   "execution_count": 7,
   "id": "0106d6da",
   "metadata": {},
   "outputs": [],
   "source": [
    "bm25_int = bm25_weight(user_items_interaction, K1=80, B=0.8).tocsr()\n",
    "bm25_weights = bm25_weight(user_items_weights, K1=80, B=0.8).tocsr()"
   ]
  },
  {
   "cell_type": "code",
   "execution_count": 53,
   "id": "f4ce35fb",
   "metadata": {},
   "outputs": [],
   "source": [
    "def choise_matrix(matrixs, size=250000, metrics_dict=metrics):\n",
    "    for k, matrix in enumerate(tqdm(matrixs)):\n",
    "        train_data, test_data = train_test_split(matrix[:size], train_percentage=0.7, random_state=42)\n",
    "        model_als = AlternatingLeastSquares(factors=200, iterations=2, num_threads=-1, random_state=42)\n",
    "        model_als.fit(train_data)\n",
    "        metrics_dict['model'].append('matrix_{}'.format(k))\n",
    "        metrics_dict['ndgc@20'].append(round(ndcg_at_k(model_als, train_data, test_data, K=20, num_threads=-1),2))\n",
    "        metrics_dict['precision@20'].append(round(precision_at_k(model_als, train_data, test_data, K=20, num_threads=-1),2))\n",
    "    return metrics_dict"
   ]
  },
  {
   "cell_type": "code",
   "execution_count": 54,
   "id": "b9e589d3",
   "metadata": {},
   "outputs": [],
   "source": [
    "matrixs = [user_items_interaction,user_items_weights,bm25_int, bm25_weights]"
   ]
  },
  {
   "cell_type": "code",
   "execution_count": 55,
   "id": "230223a8",
   "metadata": {},
   "outputs": [],
   "source": [
    "metrics = {\n",
    "    'model':[],\n",
    "    'ndgc@20':[],\n",
    "    'precision@20':[],\n",
    "}"
   ]
  },
  {
   "cell_type": "code",
   "execution_count": 56,
   "id": "7c780e55",
   "metadata": {
    "scrolled": false
   },
   "outputs": [
    {
     "data": {
      "application/vnd.jupyter.widget-view+json": {
       "model_id": "68726405517443089580de70b919f9e3",
       "version_major": 2,
       "version_minor": 0
      },
      "text/plain": [
       "  0%|          | 0/4 [00:00<?, ?it/s]"
      ]
     },
     "metadata": {},
     "output_type": "display_data"
    },
    {
     "data": {
      "application/vnd.jupyter.widget-view+json": {
       "model_id": "6ac720fdaa1a4f7482ca45919d72c81e",
       "version_major": 2,
       "version_minor": 0
      },
      "text/plain": [
       "  0%|          | 0/2 [00:00<?, ?it/s]"
      ]
     },
     "metadata": {},
     "output_type": "display_data"
    },
    {
     "data": {
      "application/vnd.jupyter.widget-view+json": {
       "model_id": "38b6f3a762554754b945ff2dc3b39f7f",
       "version_major": 2,
       "version_minor": 0
      },
      "text/plain": [
       "  0%|          | 0/89667 [00:00<?, ?it/s]"
      ]
     },
     "metadata": {},
     "output_type": "display_data"
    },
    {
     "data": {
      "application/vnd.jupyter.widget-view+json": {
       "model_id": "2059d2f96f9c43adbe480bae35e23272",
       "version_major": 2,
       "version_minor": 0
      },
      "text/plain": [
       "  0%|          | 0/89667 [00:00<?, ?it/s]"
      ]
     },
     "metadata": {},
     "output_type": "display_data"
    },
    {
     "data": {
      "application/vnd.jupyter.widget-view+json": {
       "model_id": "b840df2a055e4919b1c6711e5bce99fd",
       "version_major": 2,
       "version_minor": 0
      },
      "text/plain": [
       "  0%|          | 0/2 [00:00<?, ?it/s]"
      ]
     },
     "metadata": {},
     "output_type": "display_data"
    },
    {
     "data": {
      "application/vnd.jupyter.widget-view+json": {
       "model_id": "d8ec98a021a74e71b7d29fe5ee0eadeb",
       "version_major": 2,
       "version_minor": 0
      },
      "text/plain": [
       "  0%|          | 0/89667 [00:00<?, ?it/s]"
      ]
     },
     "metadata": {},
     "output_type": "display_data"
    },
    {
     "data": {
      "application/vnd.jupyter.widget-view+json": {
       "model_id": "082ce01374b24dd4850dbc792dc0179d",
       "version_major": 2,
       "version_minor": 0
      },
      "text/plain": [
       "  0%|          | 0/89667 [00:00<?, ?it/s]"
      ]
     },
     "metadata": {},
     "output_type": "display_data"
    },
    {
     "data": {
      "application/vnd.jupyter.widget-view+json": {
       "model_id": "c4d2c1c3466e4b4ca1294885a97f3fee",
       "version_major": 2,
       "version_minor": 0
      },
      "text/plain": [
       "  0%|          | 0/2 [00:00<?, ?it/s]"
      ]
     },
     "metadata": {},
     "output_type": "display_data"
    },
    {
     "data": {
      "application/vnd.jupyter.widget-view+json": {
       "model_id": "c84f118c53ce402fb73dc9c6c83305dd",
       "version_major": 2,
       "version_minor": 0
      },
      "text/plain": [
       "  0%|          | 0/89667 [00:00<?, ?it/s]"
      ]
     },
     "metadata": {},
     "output_type": "display_data"
    },
    {
     "data": {
      "application/vnd.jupyter.widget-view+json": {
       "model_id": "7fb1c7ee580c4567ac853c5aa0d5e78d",
       "version_major": 2,
       "version_minor": 0
      },
      "text/plain": [
       "  0%|          | 0/89667 [00:00<?, ?it/s]"
      ]
     },
     "metadata": {},
     "output_type": "display_data"
    },
    {
     "data": {
      "application/vnd.jupyter.widget-view+json": {
       "model_id": "0ee35d93e13945909af7184a7962f322",
       "version_major": 2,
       "version_minor": 0
      },
      "text/plain": [
       "  0%|          | 0/2 [00:00<?, ?it/s]"
      ]
     },
     "metadata": {},
     "output_type": "display_data"
    },
    {
     "data": {
      "application/vnd.jupyter.widget-view+json": {
       "model_id": "517e34be4e19470b97b7696159f453fe",
       "version_major": 2,
       "version_minor": 0
      },
      "text/plain": [
       "  0%|          | 0/89667 [00:00<?, ?it/s]"
      ]
     },
     "metadata": {},
     "output_type": "display_data"
    },
    {
     "data": {
      "application/vnd.jupyter.widget-view+json": {
       "model_id": "e98a5b0b7e20484798cdbe06e2557128",
       "version_major": 2,
       "version_minor": 0
      },
      "text/plain": [
       "  0%|          | 0/89667 [00:00<?, ?it/s]"
      ]
     },
     "metadata": {},
     "output_type": "display_data"
    },
    {
     "data": {
      "text/plain": [
       "{'model': ['matrix_0', 'matrix_1', 'matrix_2', 'matrix_3'],\n",
       " 'ndgc@20': [0.04388068707041237,\n",
       "  0.04191068548138226,\n",
       "  0.045541311124231286,\n",
       "  0.0453941204598418],\n",
       " 'precision@20': [0.0648989964534907,\n",
       "  0.061069332722978216,\n",
       "  0.06360120529404409,\n",
       "  0.06474326151435711]}"
      ]
     },
     "execution_count": 56,
     "metadata": {},
     "output_type": "execute_result"
    }
   ],
   "source": [
    "metrics = choise_matrix(matrixs, size=100000)\n",
    "metrics"
   ]
  },
  {
   "cell_type": "code",
   "execution_count": 12,
   "id": "81623ca2",
   "metadata": {},
   "outputs": [
    {
     "data": {
      "application/vnd.jupyter.widget-view+json": {
       "model_id": "0d0f020c4a9d433bba5d4da33d5c7e46",
       "version_major": 2,
       "version_minor": 0
      },
      "text/plain": [
       "  0%|          | 0/2 [00:00<?, ?it/s]"
      ]
     },
     "metadata": {},
     "output_type": "display_data"
    }
   ],
   "source": [
    "model_als = AlternatingLeastSquares(factors=200, iterations=2, num_threads=-1, random_state=42)\n",
    "model_als.fit(bm25_weights)"
   ]
  },
  {
   "cell_type": "code",
   "execution_count": 13,
   "id": "243dca00",
   "metadata": {},
   "outputs": [
    {
     "name": "stderr",
     "output_type": "stream",
     "text": [
      "100%|█████████████████████████████████████████████████████████████████████| 1000183/1000183 [01:02<00:00, 15938.16it/s]\n"
     ]
    }
   ],
   "source": [
    "users, rec = get_rec_als(model_als, local_train['user_id'].unique(), bm25_weights, coder)"
   ]
  },
  {
   "cell_type": "code",
   "execution_count": 14,
   "id": "0423aec2",
   "metadata": {},
   "outputs": [
    {
     "data": {
      "text/html": [
       "<div>\n",
       "<style scoped>\n",
       "    .dataframe tbody tr th:only-of-type {\n",
       "        vertical-align: middle;\n",
       "    }\n",
       "\n",
       "    .dataframe tbody tr th {\n",
       "        vertical-align: top;\n",
       "    }\n",
       "\n",
       "    .dataframe thead th {\n",
       "        text-align: right;\n",
       "    }\n",
       "</style>\n",
       "<table border=\"1\" class=\"dataframe\">\n",
       "  <thead>\n",
       "    <tr style=\"text-align: right;\">\n",
       "      <th></th>\n",
       "      <th>user_id</th>\n",
       "      <th>item_id</th>\n",
       "    </tr>\n",
       "  </thead>\n",
       "  <tbody>\n",
       "    <tr>\n",
       "      <th>0</th>\n",
       "      <td>0</td>\n",
       "      <td>[185506, 146366, 222176, 209249, 55067, 214894...</td>\n",
       "    </tr>\n",
       "    <tr>\n",
       "      <th>1</th>\n",
       "      <td>1</td>\n",
       "      <td>[117035, 46502, 136266, 221256, 113908, 218559...</td>\n",
       "    </tr>\n",
       "    <tr>\n",
       "      <th>2</th>\n",
       "      <td>2</td>\n",
       "      <td>[114561, 125070, 105277, 14760, 21100, 154155,...</td>\n",
       "    </tr>\n",
       "    <tr>\n",
       "      <th>3</th>\n",
       "      <td>3</td>\n",
       "      <td>[49589, 154155, 226527, 89732, 39846, 105277, ...</td>\n",
       "    </tr>\n",
       "    <tr>\n",
       "      <th>4</th>\n",
       "      <td>4</td>\n",
       "      <td>[158392, 224569, 20023, 35482, 43635, 155056, ...</td>\n",
       "    </tr>\n",
       "  </tbody>\n",
       "</table>\n",
       "</div>"
      ],
      "text/plain": [
       "   user_id                                            item_id\n",
       "0        0  [185506, 146366, 222176, 209249, 55067, 214894...\n",
       "1        1  [117035, 46502, 136266, 221256, 113908, 218559...\n",
       "2        2  [114561, 125070, 105277, 14760, 21100, 154155,...\n",
       "3        3  [49589, 154155, 226527, 89732, 39846, 105277, ...\n",
       "4        4  [158392, 224569, 20023, 35482, 43635, 155056, ..."
      ]
     },
     "execution_count": 14,
     "metadata": {},
     "output_type": "execute_result"
    }
   ],
   "source": [
    "candidates_als = pd.DataFrame({'user_id':users, 'item_id': rec})\n",
    "candidates_als.head()"
   ]
  },
  {
   "cell_type": "code",
   "execution_count": 15,
   "id": "b3ecb4a7",
   "metadata": {},
   "outputs": [],
   "source": [
    "candidates_als.to_parquet('files/candidates_als_train.parquet.gzip', compression='gzip')"
   ]
  },
  {
   "cell_type": "code",
   "execution_count": null,
   "id": "c30f4c6e",
   "metadata": {},
   "outputs": [],
   "source": []
  }
 ],
 "metadata": {
  "kernelspec": {
   "display_name": "Python 3 (ipykernel)",
   "language": "python",
   "name": "python3"
  },
  "language_info": {
   "codemirror_mode": {
    "name": "ipython",
    "version": 3
   },
   "file_extension": ".py",
   "mimetype": "text/x-python",
   "name": "python",
   "nbconvert_exporter": "python",
   "pygments_lexer": "ipython3",
   "version": "3.10.0"
  }
 },
 "nbformat": 4,
 "nbformat_minor": 5
}
