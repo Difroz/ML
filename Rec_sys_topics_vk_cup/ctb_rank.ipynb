{
 "cells": [
  {
   "cell_type": "code",
   "execution_count": null,
   "id": "a3a673f6",
   "metadata": {},
   "outputs": [],
   "source": [
    "import pandas as pd\n",
    "import numpy as np\n",
    "from catboost import CatBoostRanker, Pool, MetricVisualizer\n",
    "from sklearn.model_selection import train_test_split\n",
    "from tools import compute_metrics\n",
    "from copy import deepcopy"
   ]
  },
  {
   "cell_type": "code",
   "execution_count": null,
   "id": "3e991002",
   "metadata": {},
   "outputs": [],
   "source": [
    "local_test = pd.read_parquet('files/local_test.parquet.gzip')\n",
    "\n",
    "candidates_als = pd.read_parquet('files/candidates_als_train.parquet.gzip')"
   ]
  },
  {
   "cell_type": "code",
   "execution_count": null,
   "id": "14913a38",
   "metadata": {},
   "outputs": [],
   "source": [
    "user_features = pd.read_parquet('files/user_features.parquet.gzip').reset_index()\n",
    "item_features = pd.read_parquet('files/item_features.parquet.gzip')"
   ]
  },
  {
   "cell_type": "code",
   "execution_count": null,
   "id": "5e0d594c",
   "metadata": {},
   "outputs": [],
   "source": [
    "user_features.head()"
   ]
  },
  {
   "cell_type": "code",
   "execution_count": null,
   "id": "fdd9b230",
   "metadata": {},
   "outputs": [],
   "source": [
    "item_features.head()"
   ]
  },
  {
   "cell_type": "code",
   "execution_count": null,
   "id": "ef2ca6e7",
   "metadata": {},
   "outputs": [],
   "source": [
    "item_features['source_id'] = item_features['source_id'].astype('category')\n",
    "item_features['item_id'] = item_features['item_id'].astype('int32')\n",
    "item_features['likes'] = item_features['likes'].astype('int32')\n",
    "item_features['no_likes'] = item_features['no_likes'].astype('int32')\n",
    "item_features['dislikes'] = item_features['dislikes'].astype('int32')"
   ]
  },
  {
   "cell_type": "markdown",
   "id": "fc6b3600",
   "metadata": {},
   "source": [
    "## Подготовка данных для ранжирования"
   ]
  },
  {
   "cell_type": "code",
   "execution_count": null,
   "id": "a90ba962",
   "metadata": {},
   "outputs": [],
   "source": [
    "def make_target_rank(predict, true_data):\n",
    "    df_train = predict.merge(true_data, on=['user_id', 'item_id'], how='inner')\n",
    "    # negative\n",
    "    neg = predict.merge(true_data, on=['user_id', 'item_id'], how='left')\n",
    "    neg = neg[neg['timespent'].isnull()]\n",
    "    neg = neg.groupby('user_id').sample(frac=0.07)\n",
    "    neg['timespent'] = neg['timespent'].fillna(-1).astype('float16')\n",
    "    neg['reaction'] = neg['reaction'].astype('float16')\n",
    "    df_train = pd.concat([df_train,neg]).sort_values(by=['user_id', 'timespent'], ascending=[True, False])\n",
    "    df_train['rank_targ'] = (df_train.groupby('user_id').cumcount() + 1).astype('int32')\n",
    "    return df_train"
   ]
  },
  {
   "cell_type": "code",
   "execution_count": null,
   "id": "523208fc",
   "metadata": {},
   "outputs": [],
   "source": [
    "def make_target_rank_2(predict, true_data):\n",
    "    df_train = predict.merge(true_data, on=['user_id', 'item_id'], how='left')\n",
    "    df_train = df_train.loc[df_train['timespent'] >= 0].sort_values(by=['user_id', 'timespent'], ascending=[True, False])\n",
    "    df_train['rank_targ'] = (df_train.groupby('user_id').cumcount() + 1).astype('int32')\n",
    "    return df_train"
   ]
  },
  {
   "cell_type": "code",
   "execution_count": null,
   "id": "a1978631",
   "metadata": {},
   "outputs": [],
   "source": [
    "df_predict_als = candidates_als.explode('item_id').astype('int32')\n",
    "df_predict_als['rank'] = (df_predict_als.groupby('user_id').cumcount() + 1).astype('int32')\n",
    "df_predict_als.head()"
   ]
  },
  {
   "cell_type": "code",
   "execution_count": null,
   "id": "ad6c61b3",
   "metadata": {},
   "outputs": [],
   "source": [
    "#first dataset\n",
    "#df_train = make_target_rank(df_predict_als, local_test)\n",
    "#df_train.head()"
   ]
  },
  {
   "cell_type": "code",
   "execution_count": null,
   "id": "a8cf4768",
   "metadata": {},
   "outputs": [],
   "source": [
    "#second dataset\n",
    "df_train = make_target_rank_2(df_predict_als, local_test)\n",
    "df_train.head()"
   ]
  },
  {
   "cell_type": "code",
   "execution_count": null,
   "id": "866d87bb",
   "metadata": {},
   "outputs": [],
   "source": [
    "q_1_item = item_features['sum_time'].quantile(0.96)\n",
    "q_2_item = item_features['sum_time'].quantile(0.04)\n",
    "\n",
    "q_1_user= user_features['timespent_sum'].quantile(0.96)\n",
    "q_2_user = user_features['timespent_sum'].quantile(0.04)\n",
    "#\n",
    "mask_user = (user_features['timespent_sum'] < q_1_user) & (user_features['timespent_sum'] > q_2_user)\n",
    "mask_item = (item_features['sum_time'] < q_1_item) & (item_features['sum_time'] > q_2_item)\n",
    "#\n",
    "user_features_f = user_features.loc[mask_user]\n",
    "item_features_f = item_features.loc[mask_item]\n",
    "\n",
    "df_train = df_train.loc[(df_train['user_id'].isin(user_features_f['user_id'].unique())) \n",
    "                          & (df_train['item_id'].isin(item_features_f['item_id'].unique()))].sort_values(by='user_id')"
   ]
  },
  {
   "cell_type": "code",
   "execution_count": null,
   "id": "ebb150bc",
   "metadata": {},
   "outputs": [],
   "source": [
    "#split train/test user_ids\n",
    "cat_train_id, cat_test_id = train_test_split(local_test['user_id'].unique(), test_size=0.2)\n",
    "\n",
    "#split train for validate user_ids\n",
    "cat_train_id, cat_eval_id =  train_test_split(cat_train_id, test_size=0.1)"
   ]
  },
  {
   "cell_type": "code",
   "execution_count": null,
   "id": "26999946",
   "metadata": {},
   "outputs": [],
   "source": [
    "cols = ['user_id', 'item_id', 'rank', 'rank_targ']\n",
    "\n",
    "#Train data\n",
    "ctb_train = df_train.loc[df_train['user_id'].isin(cat_train_id)][cols]\n",
    "\n",
    "#Test data\n",
    "ctb_test = df_train.loc[df_train['user_id'].isin(cat_test_id)][cols]\n",
    "\n",
    "#Val data\n",
    "ctb_val = df_train.loc[df_train['user_id'].isin(cat_eval_id)][cols]\n"
   ]
  },
  {
   "cell_type": "code",
   "execution_count": null,
   "id": "095da6fe",
   "metadata": {},
   "outputs": [],
   "source": [
    "item_col = ['item_id', 'likes', 'dislikes', 'sum_time', 'mean_time', 'source_id']"
   ]
  },
  {
   "cell_type": "code",
   "execution_count": null,
   "id": "5c839665",
   "metadata": {},
   "outputs": [],
   "source": [
    "train_feature = ctb_train.merge(item_features[item_col], \n",
    "                                on=['item_id'], \n",
    "                                how='left'\n",
    "                               ).merge(user_features, on=['user_id'], how='left')\n",
    "\n",
    "val_feature = ctb_val.merge(item_features[item_col], \n",
    "                                on=['item_id'], \n",
    "                                how='left'\n",
    "                               ).merge(user_features, on=['user_id'], how='left')\n",
    "\n",
    "test_feature = ctb_test.merge(item_features[item_col], \n",
    "                                on=['item_id'], \n",
    "                                how='left'\n",
    "                               ).merge(user_features, on=['user_id'], how='left')"
   ]
  },
  {
   "cell_type": "code",
   "execution_count": null,
   "id": "706b532e",
   "metadata": {},
   "outputs": [],
   "source": [
    "qid_train = train_feature['user_id'].values\n",
    "\n",
    "qid_val = val_feature['user_id'].values\n",
    "\n",
    "qied_test = test_feature['user_id'].values"
   ]
  },
  {
   "cell_type": "code",
   "execution_count": null,
   "id": "b4093481",
   "metadata": {},
   "outputs": [],
   "source": [
    "qid_train"
   ]
  },
  {
   "cell_type": "markdown",
   "id": "765161cd",
   "metadata": {},
   "source": [
    "# X,y"
   ]
  },
  {
   "cell_type": "code",
   "execution_count": null,
   "id": "a460523f",
   "metadata": {},
   "outputs": [],
   "source": [
    "drop_col = ['user_id', 'item_id']\n",
    "target_col = ['rank_targ']\n",
    "cat_col = ['source_id']"
   ]
  },
  {
   "cell_type": "code",
   "execution_count": null,
   "id": "1019e92d",
   "metadata": {},
   "outputs": [],
   "source": [
    "X_train, y_train = train_feature.drop(columns=drop_col + target_col, axis=1), train_feature[target_col]\n",
    "X_val, y_val = val_feature.drop(columns=drop_col + target_col, axis=1), val_feature[target_col]\n",
    "X_test, y_test = test_feature.drop(columns=drop_col + target_col, axis=1), test_feature[target_col]"
   ]
  },
  {
   "cell_type": "code",
   "execution_count": null,
   "id": "d30f50be",
   "metadata": {},
   "outputs": [],
   "source": [
    "max_relevance = np.max(y_train)\n",
    "y_train /= max_relevance\n",
    "y_test /= max_relevance\n",
    "y_val /= max_relevance"
   ]
  },
  {
   "cell_type": "code",
   "execution_count": null,
   "id": "3f5a94bc",
   "metadata": {},
   "outputs": [],
   "source": [
    "train_p = Pool(\n",
    "    data=X_train,\n",
    "    label=y_train,\n",
    "    group_id=qid_train,\n",
    "    cat_features=['source_id'],\n",
    "    #embedding_features=['embeddings']\n",
    ")\n",
    "\n",
    "val_p = Pool(\n",
    "    data=X_val,\n",
    "    label=y_val,\n",
    "    group_id=qid_val,\n",
    "    cat_features=['source_id'],\n",
    "    #embedding_features=['embeddings']\n",
    ")\n",
    "\n",
    "test_p = Pool(\n",
    "    data=X_test,\n",
    "    label=y_test,\n",
    "    group_id=qied_test,\n",
    "    cat_features=['source_id'],\n",
    "    #embedding_features=['embeddings']\n",
    ")"
   ]
  },
  {
   "cell_type": "code",
   "execution_count": null,
   "id": "8576709f",
   "metadata": {},
   "outputs": [],
   "source": [
    "default_parameters = {\n",
    "    'iterations': 50,\n",
    "    'custom_metric': ['PrecisionAt:top=20','NDCG:top=20'],\n",
    "    'verbose': False,\n",
    "    'random_seed': 0,\n",
    "    'thread_count':-1,\n",
    "}\n",
    "\n",
    "parameters = {}"
   ]
  },
  {
   "cell_type": "code",
   "execution_count": null,
   "id": "b9a2405d",
   "metadata": {},
   "outputs": [],
   "source": [
    "def fit_model(loss_function, additional_params=None, train_pool=train_p, test_pool=val_p):\n",
    "    parameters = deepcopy(default_parameters)\n",
    "    parameters['loss_function'] = loss_function\n",
    "    parameters['train_dir'] = loss_function\n",
    "    \n",
    "    if additional_params is not None:\n",
    "        parameters.update(additional_params)\n",
    "        \n",
    "    model = CatBoostRanker(**parameters)\n",
    "    model.fit(train_pool, eval_set=test_pool,\n",
    "              plot=True)\n",
    "    \n",
    "    return model"
   ]
  },
  {
   "cell_type": "code",
   "execution_count": null,
   "id": "454a2ce9",
   "metadata": {},
   "outputs": [],
   "source": [
    "model = fit_model('RMSE',)"
   ]
  },
  {
   "cell_type": "code",
   "execution_count": null,
   "id": "6d3863b0",
   "metadata": {},
   "outputs": [],
   "source": [
    "model = fit_model('QueryRMSE')"
   ]
  },
  {
   "cell_type": "code",
   "execution_count": null,
   "id": "2d0ee27a",
   "metadata": {},
   "outputs": [],
   "source": [
    "model = fit_model('YetiRank')"
   ]
  },
  {
   "cell_type": "code",
   "execution_count": null,
   "id": "6237ddfd",
   "metadata": {},
   "outputs": [],
   "source": [
    "widget = MetricVisualizer(['RMSE', 'QueryRMSE', 'PairLogit', 'PairLogitPairwise', 'YetiRank'])\n",
    "widget.start()"
   ]
  },
  {
   "cell_type": "code",
   "execution_count": null,
   "id": "356efdc4",
   "metadata": {},
   "outputs": [],
   "source": [
    "#model.save_model('files/ctb_rank_split_data')\n",
    "#model.save_model('files/ctb_rank_2split_data')\n",
    "model.save_model('files/ctb_rank_2split_data_quant')"
   ]
  },
  {
   "cell_type": "code",
   "execution_count": null,
   "id": "c2536632",
   "metadata": {},
   "outputs": [],
   "source": [
    "def predict_rank(model, X, data):\n",
    "    data_f = data.copy()\n",
    "    data_f['score'] = model.predict(X)\n",
    "    data_f['score'] = data_f['score'].astype('float32')\n",
    "    data_f = data_f.sort_values(by=['user_id', 'score'], ascending=[True, True])# не понятно как релевант\n",
    "    data_f['rank_pred'] = (data_f.groupby('user_id').cumcount() + 1).astype('int32')\n",
    "    return data_f"
   ]
  },
  {
   "cell_type": "code",
   "execution_count": null,
   "id": "fe72790f",
   "metadata": {},
   "outputs": [],
   "source": [
    "pred_test = predict_rank(model,test_p, cat_data.loc[cat_data['user_id'].isin(cat_test_id)])\n",
    "pred_test"
   ]
  },
  {
   "cell_type": "markdown",
   "id": "5bdbf4c3",
   "metadata": {},
   "source": [
    "# Метрика на глобальном тесте"
   ]
  },
  {
   "cell_type": "code",
   "execution_count": null,
   "id": "27dc463e",
   "metadata": {
    "scrolled": true
   },
   "outputs": [],
   "source": [
    "als_ctb_data = df_predict_als.merge(item_features[item_col], \n",
    "                                on=['item_id'], \n",
    "                                how='left'\n",
    "                               ).merge(user_features, on=['user_id'], how='left').sort_values(by=['user_id'])\n",
    "als_ctb_data = als_ctb_data.drop(columns=['user_id', 'item_id'])\n",
    "#als_ctb_data.to_parquet('files/als_ctb_data_full_test.parquet.gzip')\n",
    "als_ctb_data .head()"
   ]
  },
  {
   "cell_type": "code",
   "execution_count": null,
   "id": "baa93ded",
   "metadata": {},
   "outputs": [],
   "source": [
    "als_ctb_data = pd.read_parquet('files/als_ctb_data_full_test.parquet.gzip')"
   ]
  },
  {
   "cell_type": "code",
   "execution_count": null,
   "id": "c85db3c8",
   "metadata": {},
   "outputs": [],
   "source": [
    "qied_full_test = df_predict_als.sort_values(by=['user_id'])['user_id'].values"
   ]
  },
  {
   "cell_type": "code",
   "execution_count": null,
   "id": "bb548049",
   "metadata": {},
   "outputs": [],
   "source": [
    "full_test_p = Pool(\n",
    "    data=als_ctb_data,\n",
    "    group_id=qied_full_test,\n",
    "    cat_features=['source_id'],\n",
    "    #embedding_features=['embeddings']\n",
    ")\n"
   ]
  },
  {
   "cell_type": "code",
   "execution_count": null,
   "id": "c249d341",
   "metadata": {},
   "outputs": [],
   "source": [
    "model = CatBoostRanker()\n",
    "#model.load_model('files/ctb_rank')\n",
    "#model.load_model('files/ctb_rank_2split_data')\n",
    "#model.load_model('files/ctb_rank_2split_data')\n",
    "model.load_model('files/ctb_rank_2split_data_quant')"
   ]
  },
  {
   "cell_type": "code",
   "execution_count": null,
   "id": "cd1c58b1",
   "metadata": {},
   "outputs": [],
   "source": [
    "df_predict = predict_rank(model, full_test_p, df_predict_als)\n",
    "\n",
    "#df_predict.to_parquet('files/als_ctb_rank_predicted.parquet.gzip')\n",
    "#df_predict.to_parquet('files/als_ctb_rank_predicted2.parquet.gzip')\n",
    "df_predict.to_parquet('files/als_ctb_rank_predicted2_quant.parquet.gzip')"
   ]
  },
  {
   "cell_type": "code",
   "execution_count": null,
   "id": "3bf79039",
   "metadata": {},
   "outputs": [],
   "source": [
    "#df_predic = pd.read_parquet('files/als_ctb_rank_predicted.parquet.gzip')\n",
    "df_predic = pd.read_parquet('files/als_ctb_rank_predicted2.parquet.gzip')\n",
    "df_predic.head()"
   ]
  },
  {
   "cell_type": "code",
   "execution_count": null,
   "id": "8be603c0",
   "metadata": {},
   "outputs": [],
   "source": [
    "df_test_full = pd.read_parquet('files/test_full.parquet.gzip')"
   ]
  },
  {
   "cell_type": "code",
   "execution_count": null,
   "id": "60c09b4a",
   "metadata": {},
   "outputs": [],
   "source": [
    "metrics_als_ctb = compute_metrics(df_test_full[['user_id', 'item_id']], df_predic, top_N=20, rank_col='rank_pred')\n",
    "metrics_als_ctb"
   ]
  },
  {
   "cell_type": "code",
   "execution_count": null,
   "id": "0652a65c",
   "metadata": {},
   "outputs": [],
   "source": [
    "metrics = pd.read_csv('files/metrics.csv',index_col=[0])\n",
    "#metrics_als_ctb = metrics_als_ctb.to_frame().T\n",
    "#metrics = pd.concat([metrics,metrics_als_ctb])\n",
    "#metrics['name_model'] = ['implicit_als', 'implicit_als_ctb_class', 'implicit_als_ctb_rank', 'implicit_als_rank2split']\n",
    "#metrics.to_csv('files/metrics.csv')\n",
    "metrics"
   ]
  },
  {
   "cell_type": "code",
   "execution_count": null,
   "id": "1b797970",
   "metadata": {},
   "outputs": [],
   "source": [
    "metrics.plot(kind='bar')"
   ]
  },
  {
   "cell_type": "code",
   "execution_count": null,
   "id": "1bf33df7",
   "metadata": {},
   "outputs": [],
   "source": []
  }
 ],
 "metadata": {
  "kernelspec": {
   "display_name": "Python 3 (ipykernel)",
   "language": "python",
   "name": "python3"
  },
  "language_info": {
   "codemirror_mode": {
    "name": "ipython",
    "version": 3
   },
   "file_extension": ".py",
   "mimetype": "text/x-python",
   "name": "python",
   "nbconvert_exporter": "python",
   "pygments_lexer": "ipython3",
   "version": "3.10.0"
  }
 },
 "nbformat": 4,
 "nbformat_minor": 5
}
