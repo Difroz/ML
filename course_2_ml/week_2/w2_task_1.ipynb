{
 "cells": [
  {
   "cell_type": "markdown",
   "id": "2345f600",
   "metadata": {},
   "source": [
    "Задача:\n",
    "Подобрать оптимальное значение k для метода k-ближайшего соседа, который предсказывает сор винограда из которого сделано вино (Провести кросс-валидацию)   \n",
    " "
   ]
  },
  {
   "cell_type": "code",
   "execution_count": 63,
   "id": "702fe9bf",
   "metadata": {},
   "outputs": [],
   "source": [
    "import pandas as pd\n",
    "# импорт метода к-ближайшего соседа\n",
    "from sklearn.neighbors import KNeighborsClassifier\n",
    "# импорт генератора разбиений и функции оценки качества модели\n",
    "from sklearn.model_selection import KFold, cross_val_score\n",
    "# импорт функции приведения признаков к одному масшатабу (Нормализация?)\n",
    "from sklearn.preprocessing import scale\n",
    "\n",
    "file = 'wine.data'"
   ]
  },
  {
   "cell_type": "code",
   "execution_count": 64,
   "id": "183beaba",
   "metadata": {},
   "outputs": [],
   "source": [
    "df = pd.read_csv(file, header=None)\n",
    "df"
   ]
  },
  {
   "cell_type": "code",
   "execution_count": 66,
   "id": "f59e054f",
   "metadata": {},
   "outputs": [],
   "source": [
    "y = df.iloc[:, 0]\n",
    "X = df.iloc[:,1:14]"
   ]
  },
  {
   "cell_type": "code",
   "execution_count": 71,
   "id": "66489a33",
   "metadata": {},
   "outputs": [],
   "source": [
    "#создать генератор разбиений\n",
    "kf = KFold(shuffle=True, random_state=42)"
   ]
  },
  {
   "cell_type": "code",
   "execution_count": 78,
   "id": "3123aa27",
   "metadata": {},
   "outputs": [],
   "source": [
    "#реализация кросс-валидации в кол-ве 50 иттераций\n",
    "def cross_val(X, y):\n",
    "    result = {}\n",
    "    for k in range(1,50):\n",
    "        neigh = KNeighborsClassifier(n_neighbors=k)\n",
    "        cross = cross_val_score(neigh, X, y, cv=kf)\n",
    "        result[k] = round(cross.mean(), 2)\n",
    "    return result\n"
   ]
  },
  {
   "cell_type": "code",
   "execution_count": 79,
   "id": "b3a04996",
   "metadata": {},
   "outputs": [
    {
     "data": {
      "text/plain": [
       "{1: 0.73,\n",
       " 2: 0.66,\n",
       " 3: 0.71,\n",
       " 4: 0.66,\n",
       " 5: 0.67,\n",
       " 6: 0.67,\n",
       " 7: 0.68,\n",
       " 8: 0.68,\n",
       " 9: 0.7,\n",
       " 10: 0.68,\n",
       " 11: 0.7,\n",
       " 12: 0.7,\n",
       " 13: 0.69,\n",
       " 14: 0.68,\n",
       " 15: 0.7,\n",
       " 16: 0.68,\n",
       " 17: 0.7,\n",
       " 18: 0.68,\n",
       " 19: 0.68,\n",
       " 20: 0.69,\n",
       " 21: 0.7,\n",
       " 22: 0.7,\n",
       " 23: 0.7,\n",
       " 24: 0.71,\n",
       " 25: 0.7,\n",
       " 26: 0.7,\n",
       " 27: 0.7,\n",
       " 28: 0.71,\n",
       " 29: 0.71,\n",
       " 30: 0.71,\n",
       " 31: 0.69,\n",
       " 32: 0.71,\n",
       " 33: 0.71,\n",
       " 34: 0.72,\n",
       " 35: 0.72,\n",
       " 36: 0.71,\n",
       " 37: 0.71,\n",
       " 38: 0.71,\n",
       " 39: 0.71,\n",
       " 40: 0.71,\n",
       " 41: 0.71,\n",
       " 42: 0.71,\n",
       " 43: 0.71,\n",
       " 44: 0.71,\n",
       " 45: 0.71,\n",
       " 46: 0.71,\n",
       " 47: 0.7,\n",
       " 48: 0.72,\n",
       " 49: 0.7}"
      ]
     },
     "execution_count": 79,
     "metadata": {},
     "output_type": "execute_result"
    }
   ],
   "source": [
    "cross_val(X, y)"
   ]
  },
  {
   "cell_type": "code",
   "execution_count": 80,
   "id": "c1693ad6",
   "metadata": {},
   "outputs": [
    {
     "data": {
      "text/plain": [
       "{1: 0.94,\n",
       " 2: 0.93,\n",
       " 3: 0.96,\n",
       " 4: 0.94,\n",
       " 5: 0.95,\n",
       " 6: 0.95,\n",
       " 7: 0.95,\n",
       " 8: 0.96,\n",
       " 9: 0.96,\n",
       " 10: 0.96,\n",
       " 11: 0.96,\n",
       " 12: 0.96,\n",
       " 13: 0.95,\n",
       " 14: 0.97,\n",
       " 15: 0.97,\n",
       " 16: 0.97,\n",
       " 17: 0.97,\n",
       " 18: 0.97,\n",
       " 19: 0.96,\n",
       " 20: 0.97,\n",
       " 21: 0.96,\n",
       " 22: 0.97,\n",
       " 23: 0.96,\n",
       " 24: 0.96,\n",
       " 25: 0.96,\n",
       " 26: 0.96,\n",
       " 27: 0.96,\n",
       " 28: 0.97,\n",
       " 29: 0.98,\n",
       " 30: 0.96,\n",
       " 31: 0.96,\n",
       " 32: 0.96,\n",
       " 33: 0.97,\n",
       " 34: 0.97,\n",
       " 35: 0.96,\n",
       " 36: 0.96,\n",
       " 37: 0.96,\n",
       " 38: 0.96,\n",
       " 39: 0.96,\n",
       " 40: 0.96,\n",
       " 41: 0.97,\n",
       " 42: 0.96,\n",
       " 43: 0.97,\n",
       " 44: 0.96,\n",
       " 45: 0.97,\n",
       " 46: 0.95,\n",
       " 47: 0.96,\n",
       " 48: 0.95,\n",
       " 49: 0.96}"
      ]
     },
     "execution_count": 80,
     "metadata": {},
     "output_type": "execute_result"
    }
   ],
   "source": [
    "sc_X = scale(X)\n",
    "cross_val(sc_X,y)"
   ]
  },
  {
   "cell_type": "code",
   "execution_count": null,
   "id": "541edf02",
   "metadata": {},
   "outputs": [],
   "source": [
    "#1 - 0.73\n",
    "#29 - 0.98"
   ]
  }
 ],
 "metadata": {
  "kernelspec": {
   "display_name": "Python 3 (ipykernel)",
   "language": "python",
   "name": "python3"
  },
  "language_info": {
   "codemirror_mode": {
    "name": "ipython",
    "version": 3
   },
   "file_extension": ".py",
   "mimetype": "text/x-python",
   "name": "python",
   "nbconvert_exporter": "python",
   "pygments_lexer": "ipython3",
   "version": "3.9.5"
  }
 },
 "nbformat": 4,
 "nbformat_minor": 5
}
