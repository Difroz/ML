{
 "cells": [
  {
   "cell_type": "code",
   "execution_count": 1,
   "id": "75dce080",
   "metadata": {},
   "outputs": [
    {
     "name": "stdout",
     "output_type": "stream",
     "text": [
      "data-logistic.csv\n",
      "a_1.txt\n",
      "perceptron-test.csv\n",
      "task 3.ipynb\n",
      "task_1.ipynb\n",
      "a_2.txt\n",
      ".ipynb_checkpoints\n",
      "perceptron-train.csv\n",
      "ans_2_3.txt\n",
      "a_4.txt\n",
      "task_2.ipynb\n",
      "data.csv\n",
      "a_3.txt\n"
     ]
    }
   ],
   "source": [
    "import os\n",
    "import pandas as pd\n",
    "from sklearn.linear_model import Perceptron\n",
    "from sklearn.metrics import accuracy_score\n",
    "from sklearn.preprocessing import StandardScaler\n",
    "for i in os.listdir():\n",
    "    print(i)"
   ]
  },
  {
   "cell_type": "code",
   "execution_count": 2,
   "id": "1d1e4348",
   "metadata": {},
   "outputs": [],
   "source": [
    "df_train = pd.read_csv('perceptron-train.csv', header=None)\n",
    "df_test = pd.read_csv('perceptron-test.csv',header=None)"
   ]
  },
  {
   "cell_type": "code",
   "execution_count": 3,
   "id": "74496697",
   "metadata": {},
   "outputs": [],
   "source": [
    "y_train = df_train[0]\n",
    "X_train = df_train[[1,2]]\n",
    "y_test = df_test[0]\n",
    "X_test = df_test[[1,2]]"
   ]
  },
  {
   "cell_type": "code",
   "execution_count": 12,
   "id": "9e630d68",
   "metadata": {},
   "outputs": [
    {
     "data": {
      "text/plain": [
       "0.655"
      ]
     },
     "execution_count": 12,
     "metadata": {},
     "output_type": "execute_result"
    }
   ],
   "source": [
    "model = Perceptron()\n",
    "pred = model.fit(X_train, y_train)\n",
    "prediction = pred.predict(X_test)\n",
    "acc = accuracy_score(y_test, prediction)\n",
    "acc"
   ]
  },
  {
   "cell_type": "code",
   "execution_count": 13,
   "id": "b404c61c",
   "metadata": {},
   "outputs": [
    {
     "data": {
      "text/plain": [
       "0.845"
      ]
     },
     "execution_count": 13,
     "metadata": {},
     "output_type": "execute_result"
    }
   ],
   "source": [
    "scaler = StandardScaler()\n",
    "X_train_scale = scaler.fit_transform(X_train)\n",
    "X_test_scale = scaler.transform(X_test)\n",
    "pred_scale = model.fit(X_train_scale, y_train)\n",
    "prediction_scale = pred.predict(X_test_scale)\n",
    "acc_scale = accuracy_score(y_test, prediction_scale)\n",
    "acc_scale"
   ]
  },
  {
   "cell_type": "code",
   "execution_count": 14,
   "id": "a5653ea0",
   "metadata": {},
   "outputs": [],
   "source": [
    "result = acc_scale - acc\n",
    "with open('ans_2_3.txt', 'w') as f:\n",
    "    f.write('{:.3f}'.format(result))"
   ]
  },
  {
   "cell_type": "code",
   "execution_count": null,
   "id": "eac37a8e",
   "metadata": {},
   "outputs": [],
   "source": []
  }
 ],
 "metadata": {
  "kernelspec": {
   "display_name": "Python 3 (ipykernel)",
   "language": "python",
   "name": "python3"
  },
  "language_info": {
   "codemirror_mode": {
    "name": "ipython",
    "version": 3
   },
   "file_extension": ".py",
   "mimetype": "text/x-python",
   "name": "python",
   "nbconvert_exporter": "python",
   "pygments_lexer": "ipython3",
   "version": "3.9.5"
  }
 },
 "nbformat": 4,
 "nbformat_minor": 5
}
