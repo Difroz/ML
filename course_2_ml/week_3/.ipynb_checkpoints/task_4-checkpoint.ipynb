{
 "cells": [
  {
   "cell_type": "code",
   "execution_count": 2,
   "id": "2b0b318c",
   "metadata": {},
   "outputs": [],
   "source": [
    "import os\n",
    "import pandas as pd\n",
    "from sklearn import metrics"
   ]
  },
  {
   "cell_type": "code",
   "execution_count": 4,
   "id": "ea85c7cb",
   "metadata": {},
   "outputs": [
    {
     "name": "stdout",
     "output_type": "stream",
     "text": [
      "data-logistic.csv\n",
      "task_3.ipynb\n",
      "a_1.txt\n",
      "perceptron-test.csv\n",
      "a.txt\n",
      "task 3.ipynb\n",
      "task_1.ipynb\n",
      "a_2.txt\n",
      ".ipynb_checkpoints\n",
      "perceptron-train.csv\n",
      "ans_3_1.txt\n",
      "a_4.txt\n",
      "classification.csv\n",
      "task_2.ipynb\n",
      "data.csv\n",
      "task_4.ipynb\n",
      "scores.csv\n",
      "a_3.txt\n"
     ]
    }
   ],
   "source": [
    "for i in os.listdir():\n",
    "    print(i)"
   ]
  },
  {
   "cell_type": "code",
   "execution_count": 5,
   "id": "95ed2a5c",
   "metadata": {},
   "outputs": [],
   "source": [
    "file_1 = 'classification.csv'\n",
    "file_2 = 'scores.csv'"
   ]
  },
  {
   "cell_type": "code",
   "execution_count": 6,
   "id": "e71a8c18",
   "metadata": {},
   "outputs": [],
   "source": [
    "df_1 = pd.read_csv(file_1)\n",
    "df_2 = pd.read_csv(file_2)"
   ]
  },
  {
   "cell_type": "code",
   "execution_count": 7,
   "id": "25ff3d2d",
   "metadata": {
    "scrolled": true
   },
   "outputs": [
    {
     "data": {
      "text/html": [
       "<div>\n",
       "<style scoped>\n",
       "    .dataframe tbody tr th:only-of-type {\n",
       "        vertical-align: middle;\n",
       "    }\n",
       "\n",
       "    .dataframe tbody tr th {\n",
       "        vertical-align: top;\n",
       "    }\n",
       "\n",
       "    .dataframe thead th {\n",
       "        text-align: right;\n",
       "    }\n",
       "</style>\n",
       "<table border=\"1\" class=\"dataframe\">\n",
       "  <thead>\n",
       "    <tr style=\"text-align: right;\">\n",
       "      <th></th>\n",
       "      <th>true</th>\n",
       "      <th>pred</th>\n",
       "    </tr>\n",
       "  </thead>\n",
       "  <tbody>\n",
       "    <tr>\n",
       "      <th>0</th>\n",
       "      <td>1</td>\n",
       "      <td>0</td>\n",
       "    </tr>\n",
       "    <tr>\n",
       "      <th>1</th>\n",
       "      <td>1</td>\n",
       "      <td>1</td>\n",
       "    </tr>\n",
       "    <tr>\n",
       "      <th>2</th>\n",
       "      <td>1</td>\n",
       "      <td>1</td>\n",
       "    </tr>\n",
       "    <tr>\n",
       "      <th>3</th>\n",
       "      <td>0</td>\n",
       "      <td>0</td>\n",
       "    </tr>\n",
       "    <tr>\n",
       "      <th>4</th>\n",
       "      <td>1</td>\n",
       "      <td>1</td>\n",
       "    </tr>\n",
       "    <tr>\n",
       "      <th>...</th>\n",
       "      <td>...</td>\n",
       "      <td>...</td>\n",
       "    </tr>\n",
       "    <tr>\n",
       "      <th>195</th>\n",
       "      <td>0</td>\n",
       "      <td>0</td>\n",
       "    </tr>\n",
       "    <tr>\n",
       "      <th>196</th>\n",
       "      <td>0</td>\n",
       "      <td>0</td>\n",
       "    </tr>\n",
       "    <tr>\n",
       "      <th>197</th>\n",
       "      <td>1</td>\n",
       "      <td>0</td>\n",
       "    </tr>\n",
       "    <tr>\n",
       "      <th>198</th>\n",
       "      <td>0</td>\n",
       "      <td>1</td>\n",
       "    </tr>\n",
       "    <tr>\n",
       "      <th>199</th>\n",
       "      <td>0</td>\n",
       "      <td>0</td>\n",
       "    </tr>\n",
       "  </tbody>\n",
       "</table>\n",
       "<p>200 rows × 2 columns</p>\n",
       "</div>"
      ],
      "text/plain": [
       "     true  pred\n",
       "0       1     0\n",
       "1       1     1\n",
       "2       1     1\n",
       "3       0     0\n",
       "4       1     1\n",
       "..    ...   ...\n",
       "195     0     0\n",
       "196     0     0\n",
       "197     1     0\n",
       "198     0     1\n",
       "199     0     0\n",
       "\n",
       "[200 rows x 2 columns]"
      ]
     },
     "execution_count": 7,
     "metadata": {},
     "output_type": "execute_result"
    }
   ],
   "source": [
    "df_1"
   ]
  },
  {
   "cell_type": "code",
   "execution_count": null,
   "id": "2c661803",
   "metadata": {},
   "outputs": [],
   "source": [
    "\"\"\"\n",
    "TP, FP, FN, TN\n",
    "TP - количество правильных положительных предсказаний pred = 1 true = 1\n",
    "FP - количество ложных положительных предсказаний pred = 1 true = 0\n",
    "TN - количество правильных отрицательных предсказаний pred = 0 true = 0\n",
    "FN - количество ложны отрицательных предсказаний pred = 1 true = 0\n",
    "\"\"\""
   ]
  },
  {
   "cell_type": "code",
   "execution_count": 157,
   "id": "43360e35",
   "metadata": {
    "scrolled": true
   },
   "outputs": [
    {
     "data": {
      "text/plain": [
       "true  pred\n",
       "1     1       43\n",
       "0     1       34\n",
       "dtype: int64"
      ]
     },
     "execution_count": 157,
     "metadata": {},
     "output_type": "execute_result"
    }
   ],
   "source": [
    "df_1.loc[df_1['pred'] == 1].value_counts()"
   ]
  },
  {
   "cell_type": "code",
   "execution_count": 164,
   "id": "a3677b8a",
   "metadata": {},
   "outputs": [
    {
     "data": {
      "text/plain": [
       "true  pred\n",
       "0     0       64\n",
       "1     0       59\n",
       "dtype: int64"
      ]
     },
     "execution_count": 164,
     "metadata": {},
     "output_type": "execute_result"
    }
   ],
   "source": [
    "df_1.loc[df_1['pred'] == 0].value_counts()"
   ]
  },
  {
   "cell_type": "code",
   "execution_count": 171,
   "id": "b81104c4",
   "metadata": {
    "scrolled": true
   },
   "outputs": [
    {
     "data": {
      "text/html": [
       "<div>\n",
       "<style scoped>\n",
       "    .dataframe tbody tr th:only-of-type {\n",
       "        vertical-align: middle;\n",
       "    }\n",
       "\n",
       "    .dataframe tbody tr th {\n",
       "        vertical-align: top;\n",
       "    }\n",
       "\n",
       "    .dataframe thead th {\n",
       "        text-align: right;\n",
       "    }\n",
       "</style>\n",
       "<table border=\"1\" class=\"dataframe\">\n",
       "  <thead>\n",
       "    <tr style=\"text-align: right;\">\n",
       "      <th></th>\n",
       "      <th>1</th>\n",
       "      <th>0</th>\n",
       "    </tr>\n",
       "  </thead>\n",
       "  <tbody>\n",
       "    <tr>\n",
       "      <th>1</th>\n",
       "      <td>43</td>\n",
       "      <td>34</td>\n",
       "    </tr>\n",
       "    <tr>\n",
       "      <th>0</th>\n",
       "      <td>59</td>\n",
       "      <td>64</td>\n",
       "    </tr>\n",
       "  </tbody>\n",
       "</table>\n",
       "</div>"
      ],
      "text/plain": [
       "    1   0\n",
       "1  43  34\n",
       "0  59  64"
      ]
     },
     "execution_count": 171,
     "metadata": {},
     "output_type": "execute_result"
    }
   ],
   "source": [
    "#ans_1\n",
    "TP, FP = df_1.loc[df_1['pred'] == 1].value_counts().values\n",
    "TN, FN = df_1.loc[df_1['pred'] == 0].value_counts().values\n",
    "pd.DataFrame(index=[1,0], columns=[1,0], data=[[TP,FP],[FN, TN]])"
   ]
  },
  {
   "cell_type": "code",
   "execution_count": 172,
   "id": "38231c0d",
   "metadata": {},
   "outputs": [
    {
     "data": {
      "text/plain": [
       "['43', '34', '59', '64']"
      ]
     },
     "execution_count": 172,
     "metadata": {},
     "output_type": "execute_result"
    }
   ],
   "source": [
    "a = [TP,FP, FN, TN]\n",
    "result_1 = []\n",
    "for i in a:\n",
    "    result_1.append(str(i))\n",
    "result_1"
   ]
  },
  {
   "cell_type": "code",
   "execution_count": 173,
   "id": "4e074ccd",
   "metadata": {},
   "outputs": [],
   "source": [
    "with open('ans_4_1', 'w') as f:\n",
    "    f.write(' '.join(result_1))"
   ]
  },
  {
   "cell_type": "code",
   "execution_count": 76,
   "id": "2dd58fc9",
   "metadata": {},
   "outputs": [],
   "source": [
    "# ans_2\n",
    "acc = metrics.accuracy_score(df_1['true'], df_1['pred'])\n",
    "prs = metrics.precision_score(df_1['true'], df_1['pred'])\n",
    "rec = metrics.recall_score(df_1['true'], df_1['pred'])\n",
    "f1 = metrics.f1_score(df_1['true'], df_1['pred'])"
   ]
  },
  {
   "cell_type": "code",
   "execution_count": 90,
   "id": "c6ff82df",
   "metadata": {},
   "outputs": [],
   "source": [
    "list_ac = [acc, prs,rec,f1]\n",
    "result_2 = []\n",
    "for i in list_ac:\n",
    "    result.append(str(round(i,2)))"
   ]
  },
  {
   "cell_type": "code",
   "execution_count": 92,
   "id": "039070a3",
   "metadata": {},
   "outputs": [
    {
     "data": {
      "text/plain": [
       "['0.54', '0.56', '0.42', '0.48']"
      ]
     },
     "execution_count": 92,
     "metadata": {},
     "output_type": "execute_result"
    }
   ],
   "source": [
    "result_2"
   ]
  },
  {
   "cell_type": "code",
   "execution_count": 95,
   "id": "18e2929e",
   "metadata": {},
   "outputs": [],
   "source": [
    "with open('ans_4_2', 'w') as f:\n",
    "    f.write(' '.join(result_2))"
   ]
  },
  {
   "cell_type": "code",
   "execution_count": 96,
   "id": "af5b5655",
   "metadata": {
    "scrolled": true
   },
   "outputs": [
    {
     "data": {
      "text/html": [
       "<div>\n",
       "<style scoped>\n",
       "    .dataframe tbody tr th:only-of-type {\n",
       "        vertical-align: middle;\n",
       "    }\n",
       "\n",
       "    .dataframe tbody tr th {\n",
       "        vertical-align: top;\n",
       "    }\n",
       "\n",
       "    .dataframe thead th {\n",
       "        text-align: right;\n",
       "    }\n",
       "</style>\n",
       "<table border=\"1\" class=\"dataframe\">\n",
       "  <thead>\n",
       "    <tr style=\"text-align: right;\">\n",
       "      <th></th>\n",
       "      <th>true</th>\n",
       "      <th>score_logreg</th>\n",
       "      <th>score_svm</th>\n",
       "      <th>score_knn</th>\n",
       "      <th>score_tree</th>\n",
       "    </tr>\n",
       "  </thead>\n",
       "  <tbody>\n",
       "    <tr>\n",
       "      <th>0</th>\n",
       "      <td>0</td>\n",
       "      <td>0.683832</td>\n",
       "      <td>0.145976</td>\n",
       "      <td>0.787063</td>\n",
       "      <td>0.500000</td>\n",
       "    </tr>\n",
       "    <tr>\n",
       "      <th>1</th>\n",
       "      <td>1</td>\n",
       "      <td>0.801966</td>\n",
       "      <td>0.239511</td>\n",
       "      <td>1.000000</td>\n",
       "      <td>0.833333</td>\n",
       "    </tr>\n",
       "    <tr>\n",
       "      <th>2</th>\n",
       "      <td>0</td>\n",
       "      <td>0.382315</td>\n",
       "      <td>-0.245701</td>\n",
       "      <td>0.000000</td>\n",
       "      <td>0.000000</td>\n",
       "    </tr>\n",
       "    <tr>\n",
       "      <th>3</th>\n",
       "      <td>1</td>\n",
       "      <td>0.506797</td>\n",
       "      <td>-0.137058</td>\n",
       "      <td>0.000000</td>\n",
       "      <td>0.105263</td>\n",
       "    </tr>\n",
       "    <tr>\n",
       "      <th>4</th>\n",
       "      <td>1</td>\n",
       "      <td>0.488781</td>\n",
       "      <td>-0.154148</td>\n",
       "      <td>0.000000</td>\n",
       "      <td>0.105263</td>\n",
       "    </tr>\n",
       "    <tr>\n",
       "      <th>...</th>\n",
       "      <td>...</td>\n",
       "      <td>...</td>\n",
       "      <td>...</td>\n",
       "      <td>...</td>\n",
       "      <td>...</td>\n",
       "    </tr>\n",
       "    <tr>\n",
       "      <th>195</th>\n",
       "      <td>0</td>\n",
       "      <td>0.573801</td>\n",
       "      <td>-0.088203</td>\n",
       "      <td>0.284192</td>\n",
       "      <td>0.400000</td>\n",
       "    </tr>\n",
       "    <tr>\n",
       "      <th>196</th>\n",
       "      <td>0</td>\n",
       "      <td>0.624422</td>\n",
       "      <td>-0.012315</td>\n",
       "      <td>0.205437</td>\n",
       "      <td>0.400000</td>\n",
       "    </tr>\n",
       "    <tr>\n",
       "      <th>197</th>\n",
       "      <td>1</td>\n",
       "      <td>0.425538</td>\n",
       "      <td>-0.135673</td>\n",
       "      <td>0.382351</td>\n",
       "      <td>0.700000</td>\n",
       "    </tr>\n",
       "    <tr>\n",
       "      <th>198</th>\n",
       "      <td>0</td>\n",
       "      <td>0.905270</td>\n",
       "      <td>0.583806</td>\n",
       "      <td>1.000000</td>\n",
       "      <td>1.000000</td>\n",
       "    </tr>\n",
       "    <tr>\n",
       "      <th>199</th>\n",
       "      <td>0</td>\n",
       "      <td>0.275594</td>\n",
       "      <td>-0.422160</td>\n",
       "      <td>0.743567</td>\n",
       "      <td>0.642857</td>\n",
       "    </tr>\n",
       "  </tbody>\n",
       "</table>\n",
       "<p>200 rows × 5 columns</p>\n",
       "</div>"
      ],
      "text/plain": [
       "     true  score_logreg  score_svm  score_knn  score_tree\n",
       "0       0      0.683832   0.145976   0.787063    0.500000\n",
       "1       1      0.801966   0.239511   1.000000    0.833333\n",
       "2       0      0.382315  -0.245701   0.000000    0.000000\n",
       "3       1      0.506797  -0.137058   0.000000    0.105263\n",
       "4       1      0.488781  -0.154148   0.000000    0.105263\n",
       "..    ...           ...        ...        ...         ...\n",
       "195     0      0.573801  -0.088203   0.284192    0.400000\n",
       "196     0      0.624422  -0.012315   0.205437    0.400000\n",
       "197     1      0.425538  -0.135673   0.382351    0.700000\n",
       "198     0      0.905270   0.583806   1.000000    1.000000\n",
       "199     0      0.275594  -0.422160   0.743567    0.642857\n",
       "\n",
       "[200 rows x 5 columns]"
      ]
     },
     "execution_count": 96,
     "metadata": {},
     "output_type": "execute_result"
    }
   ],
   "source": [
    "#ans_3\n",
    "df_2"
   ]
  },
  {
   "cell_type": "code",
   "execution_count": 107,
   "id": "d58c6063",
   "metadata": {},
   "outputs": [
    {
     "data": {
      "text/plain": [
       "[0.72, 0.71, 0.64, 0.69]"
      ]
     },
     "execution_count": 107,
     "metadata": {},
     "output_type": "execute_result"
    }
   ],
   "source": [
    "result_3 = []\n",
    "for i in df_2.columns[1:]:\n",
    "    result_3.append(round(metrics.roc_auc_score(df_2['true'], df_2[i]), 2))\n",
    "result_3"
   ]
  },
  {
   "cell_type": "code",
   "execution_count": 111,
   "id": "c16671e1",
   "metadata": {},
   "outputs": [
    {
     "data": {
      "text/plain": [
       "'score_logreg'"
      ]
     },
     "execution_count": 111,
     "metadata": {},
     "output_type": "execute_result"
    }
   ],
   "source": [
    "result_3 = df_2.columns[1:][result_3.index(max(result_3))]\n",
    "result_3"
   ]
  },
  {
   "cell_type": "code",
   "execution_count": 132,
   "id": "bc6aea45",
   "metadata": {},
   "outputs": [],
   "source": [
    "with open('ans_4_3', 'w') as f:\n",
    "    f.write(result_3)"
   ]
  },
  {
   "cell_type": "code",
   "execution_count": 130,
   "id": "f3338d2c",
   "metadata": {},
   "outputs": [
    {
     "data": {
      "text/plain": [
       "[0.63, 0.62, 0.61, 0.65]"
      ]
     },
     "execution_count": 130,
     "metadata": {},
     "output_type": "execute_result"
    }
   ],
   "source": [
    "#ans_4\n",
    "result_4 =[]\n",
    "for i in df_2.columns[1:]:\n",
    "    df_3 = pd.DataFrame(metrics.precision_recall_curve(df_2['true'], df_2[i])).T\n",
    "    result_4.append(round(df_3.loc[df_3[1] >0.7][0].max(),2))\n",
    "result_4"
   ]
  },
  {
   "cell_type": "code",
   "execution_count": 131,
   "id": "b46e34bd",
   "metadata": {},
   "outputs": [
    {
     "data": {
      "text/plain": [
       "'score_tree'"
      ]
     },
     "execution_count": 131,
     "metadata": {},
     "output_type": "execute_result"
    }
   ],
   "source": [
    "result_4 = df_2.columns[1:][result_4.index(max(result_4))]\n",
    "result_4"
   ]
  },
  {
   "cell_type": "code",
   "execution_count": 133,
   "id": "a5730f3b",
   "metadata": {},
   "outputs": [],
   "source": [
    "with open('ans_4_4', 'w') as f:\n",
    "    f.write(result_4)"
   ]
  },
  {
   "cell_type": "code",
   "execution_count": null,
   "id": "1605c697",
   "metadata": {},
   "outputs": [],
   "source": []
  }
 ],
 "metadata": {
  "kernelspec": {
   "display_name": "Python 3 (ipykernel)",
   "language": "python",
   "name": "python3"
  },
  "language_info": {
   "codemirror_mode": {
    "name": "ipython",
    "version": 3
   },
   "file_extension": ".py",
   "mimetype": "text/x-python",
   "name": "python",
   "nbconvert_exporter": "python",
   "pygments_lexer": "ipython3",
   "version": "3.9.5"
  }
 },
 "nbformat": 4,
 "nbformat_minor": 5
}
