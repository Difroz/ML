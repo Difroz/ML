{
 "cells": [
  {
   "cell_type": "code",
   "execution_count": 1,
   "id": "97eb20c1",
   "metadata": {},
   "outputs": [
    {
     "name": "stdout",
     "output_type": "stream",
     "text": [
      "data-logistic.csv\n",
      "task_3.ipynb\n",
      "a_1.txt\n",
      "perceptron-test.csv\n",
      "a.txt\n",
      "task 3.ipynb\n",
      "task_1.ipynb\n",
      "a_2.txt\n",
      ".ipynb_checkpoints\n",
      "perceptron-train.csv\n",
      "a_4.txt\n",
      "task_2.ipynb\n",
      "data.csv\n",
      "a_3.txt\n"
     ]
    }
   ],
   "source": [
    "import os\n",
    "import pandas as pd\n",
    "import numpy as np\n",
    "from math import exp\n",
    "from sklearn.linear_model import LogisticRegression\n",
    "from sklearn.metrics import roc_auc_score\n",
    "from sklearn.preprocessing import StandardScaler\n",
    "from scipy.spatial import distance\n",
    "for i in os.listdir():\n",
    "    print(i)"
   ]
  },
  {
   "cell_type": "code",
   "execution_count": 2,
   "id": "da416496",
   "metadata": {},
   "outputs": [],
   "source": [
    "df = pd.read_csv('data-logistic.csv', header=None)"
   ]
  },
  {
   "cell_type": "code",
   "execution_count": 3,
   "id": "9a02bb17",
   "metadata": {},
   "outputs": [
    {
     "data": {
      "text/html": [
       "<div>\n",
       "<style scoped>\n",
       "    .dataframe tbody tr th:only-of-type {\n",
       "        vertical-align: middle;\n",
       "    }\n",
       "\n",
       "    .dataframe tbody tr th {\n",
       "        vertical-align: top;\n",
       "    }\n",
       "\n",
       "    .dataframe thead th {\n",
       "        text-align: right;\n",
       "    }\n",
       "</style>\n",
       "<table border=\"1\" class=\"dataframe\">\n",
       "  <thead>\n",
       "    <tr style=\"text-align: right;\">\n",
       "      <th></th>\n",
       "      <th>0</th>\n",
       "      <th>1</th>\n",
       "      <th>2</th>\n",
       "    </tr>\n",
       "  </thead>\n",
       "  <tbody>\n",
       "    <tr>\n",
       "      <th>0</th>\n",
       "      <td>-1</td>\n",
       "      <td>-0.663827</td>\n",
       "      <td>-0.138526</td>\n",
       "    </tr>\n",
       "    <tr>\n",
       "      <th>1</th>\n",
       "      <td>1</td>\n",
       "      <td>1.994596</td>\n",
       "      <td>2.468025</td>\n",
       "    </tr>\n",
       "    <tr>\n",
       "      <th>2</th>\n",
       "      <td>-1</td>\n",
       "      <td>-1.247395</td>\n",
       "      <td>0.749425</td>\n",
       "    </tr>\n",
       "    <tr>\n",
       "      <th>3</th>\n",
       "      <td>1</td>\n",
       "      <td>2.309374</td>\n",
       "      <td>1.899836</td>\n",
       "    </tr>\n",
       "    <tr>\n",
       "      <th>4</th>\n",
       "      <td>1</td>\n",
       "      <td>0.849143</td>\n",
       "      <td>2.407750</td>\n",
       "    </tr>\n",
       "    <tr>\n",
       "      <th>...</th>\n",
       "      <td>...</td>\n",
       "      <td>...</td>\n",
       "      <td>...</td>\n",
       "    </tr>\n",
       "    <tr>\n",
       "      <th>200</th>\n",
       "      <td>1</td>\n",
       "      <td>4.245176</td>\n",
       "      <td>3.053931</td>\n",
       "    </tr>\n",
       "    <tr>\n",
       "      <th>201</th>\n",
       "      <td>1</td>\n",
       "      <td>2.437935</td>\n",
       "      <td>1.357804</td>\n",
       "    </tr>\n",
       "    <tr>\n",
       "      <th>202</th>\n",
       "      <td>-1</td>\n",
       "      <td>-1.876638</td>\n",
       "      <td>1.533398</td>\n",
       "    </tr>\n",
       "    <tr>\n",
       "      <th>203</th>\n",
       "      <td>1</td>\n",
       "      <td>-6.824446</td>\n",
       "      <td>-13.934211</td>\n",
       "    </tr>\n",
       "    <tr>\n",
       "      <th>204</th>\n",
       "      <td>-1</td>\n",
       "      <td>0.001805</td>\n",
       "      <td>0.865147</td>\n",
       "    </tr>\n",
       "  </tbody>\n",
       "</table>\n",
       "<p>205 rows × 3 columns</p>\n",
       "</div>"
      ],
      "text/plain": [
       "     0         1          2\n",
       "0   -1 -0.663827  -0.138526\n",
       "1    1  1.994596   2.468025\n",
       "2   -1 -1.247395   0.749425\n",
       "3    1  2.309374   1.899836\n",
       "4    1  0.849143   2.407750\n",
       "..  ..       ...        ...\n",
       "200  1  4.245176   3.053931\n",
       "201  1  2.437935   1.357804\n",
       "202 -1 -1.876638   1.533398\n",
       "203  1 -6.824446 -13.934211\n",
       "204 -1  0.001805   0.865147\n",
       "\n",
       "[205 rows x 3 columns]"
      ]
     },
     "execution_count": 3,
     "metadata": {},
     "output_type": "execute_result"
    }
   ],
   "source": [
    "df"
   ]
  },
  {
   "cell_type": "code",
   "execution_count": 4,
   "id": "3737863a",
   "metadata": {},
   "outputs": [],
   "source": [
    "X = df[df.columns[1:]].values\n",
    "y = df[df.columns[0]].values"
   ]
  },
  {
   "cell_type": "code",
   "execution_count": 6,
   "id": "1c06080c",
   "metadata": {},
   "outputs": [],
   "source": [
    "w1 = 0\n",
    "w2 = 0\n",
    "k = 0.1\n",
    "alpha = 1e-5"
   ]
  },
  {
   "cell_type": "code",
   "execution_count": 57,
   "id": "aebb25b2",
   "metadata": {},
   "outputs": [],
   "source": [
    "def sigmoid(x):\n",
    "    return 1.0 / (1.0 + np.exp(-x))\n",
    "\n",
    "def log_regression(X, y, k, w, C, epsilon, max_iter):\n",
    "    for i in range(max_iter):\n",
    "        wnew = w + k * np.mean((X.transpose() * y) * (1 - sigmoid(y * np.dot(X, w))), axis=1) - k * C * w\n",
    "        if np.sqrt(np.sum(np.square(wnew-w))) < epsilon:\n",
    "            print (i)\n",
    "            break\n",
    "        w = wnew\n",
    "    predictions = sigmoid(np.dot(X, w))\n",
    "    return predictions"
   ]
  },
  {
   "cell_type": "code",
   "execution_count": 63,
   "id": "bfe2cab4",
   "metadata": {},
   "outputs": [
    {
     "name": "stdout",
     "output_type": "stream",
     "text": [
      "7\n",
      "243\n"
     ]
    }
   ],
   "source": [
    "w = [0.0, 0.0]\n",
    "p0 = log_regression(X, y, k, np.array(w), C=10, epsilon=0.00001, max_iter=10000)\n",
    "p1 = log_regression(X, y, k, np.array(w), C=0, epsilon=0.00001, max_iter=10000)"
   ]
  },
  {
   "cell_type": "code",
   "execution_count": 69,
   "id": "cd4e107b",
   "metadata": {},
   "outputs": [],
   "source": [
    "res_1 = round(roc_auc_score(y, p0), 3)"
   ]
  },
  {
   "cell_type": "code",
   "execution_count": 70,
   "id": "8ebf1a6e",
   "metadata": {},
   "outputs": [],
   "source": [
    "res_2 = round(roc_auc_score(y, p1), 3)"
   ]
  },
  {
   "cell_type": "code",
   "execution_count": 71,
   "id": "78e3936d",
   "metadata": {},
   "outputs": [],
   "source": [
    "result = '{} {}'.format(res_2, res_1)"
   ]
  },
  {
   "cell_type": "code",
   "execution_count": 72,
   "id": "b59b1818",
   "metadata": {},
   "outputs": [],
   "source": [
    "with open('ans_3_1.txt', 'w') as f:\n",
    "    f.write(result)"
   ]
  }
 ],
 "metadata": {
  "kernelspec": {
   "display_name": "Python 3 (ipykernel)",
   "language": "python",
   "name": "python3"
  },
  "language_info": {
   "codemirror_mode": {
    "name": "ipython",
    "version": 3
   },
   "file_extension": ".py",
   "mimetype": "text/x-python",
   "name": "python",
   "nbconvert_exporter": "python",
   "pygments_lexer": "ipython3",
   "version": "3.9.5"
  }
 },
 "nbformat": 4,
 "nbformat_minor": 5
}
