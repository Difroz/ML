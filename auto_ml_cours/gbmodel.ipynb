{
 "cells": [
  {
   "cell_type": "code",
   "execution_count": 66,
   "id": "664a4a36",
   "metadata": {},
   "outputs": [],
   "source": [
    "import os\n",
    "import pandas as pd\n",
    "import numpy as np\n",
    "import seaborn as sns\n",
    "import matplotlib.pyplot as plt\n",
    "from sklearn.compose import ColumnTransformer\n",
    "from sklearn.pipeline import Pipeline\n",
    "from sklearn.metrics import mean_absolute_error\n",
    "from sklearn.linear_model import LinearRegression, Lasso\n",
    "from sklearn.ensemble import RandomForestRegressor, GradientBoostingRegressor\n",
    "from sklearn.model_selection import KFold, train_test_split, cross_val_score, GridSearchCV\n",
    "from sklearn.preprocessing import StandardScaler\n",
    "from sklearn.impute import SimpleImputer\n",
    "from sklearn.preprocessing import OneHotEncoder, OrdinalEncoder"
   ]
  },
  {
   "cell_type": "code",
   "execution_count": 2,
   "id": "90794f58",
   "metadata": {},
   "outputs": [
    {
     "data": {
      "text/plain": [
       "['test_data.csv',\n",
       " 'sample_submission.csv',\n",
       " 'train_data.csv',\n",
       " 'submis_automl.csv',\n",
       " 'auto_ml.ipynb',\n",
       " 'gbmodel.ipynb']"
      ]
     },
     "execution_count": 2,
     "metadata": {},
     "output_type": "execute_result"
    }
   ],
   "source": [
    "os.listdir()"
   ]
  },
  {
   "cell_type": "code",
   "execution_count": 11,
   "id": "4902bcb4",
   "metadata": {},
   "outputs": [
    {
     "data": {
      "text/html": [
       "<div>\n",
       "<style scoped>\n",
       "    .dataframe tbody tr th:only-of-type {\n",
       "        vertical-align: middle;\n",
       "    }\n",
       "\n",
       "    .dataframe tbody tr th {\n",
       "        vertical-align: top;\n",
       "    }\n",
       "\n",
       "    .dataframe thead th {\n",
       "        text-align: right;\n",
       "    }\n",
       "</style>\n",
       "<table border=\"1\" class=\"dataframe\">\n",
       "  <thead>\n",
       "    <tr style=\"text-align: right;\">\n",
       "      <th></th>\n",
       "      <th>vehicle_manufacturer</th>\n",
       "      <th>vehicle_model</th>\n",
       "      <th>vehicle_category</th>\n",
       "      <th>current_mileage</th>\n",
       "      <th>vehicle_year</th>\n",
       "      <th>vehicle_gearbox_type</th>\n",
       "      <th>doors_cnt</th>\n",
       "      <th>wheels</th>\n",
       "      <th>vehicle_color</th>\n",
       "      <th>vehicle_interior_color</th>\n",
       "      <th>car_vin</th>\n",
       "      <th>car_leather_interior</th>\n",
       "      <th>deal_type</th>\n",
       "      <th>final_price</th>\n",
       "    </tr>\n",
       "    <tr>\n",
       "      <th>row_ID</th>\n",
       "      <th></th>\n",
       "      <th></th>\n",
       "      <th></th>\n",
       "      <th></th>\n",
       "      <th></th>\n",
       "      <th></th>\n",
       "      <th></th>\n",
       "      <th></th>\n",
       "      <th></th>\n",
       "      <th></th>\n",
       "      <th></th>\n",
       "      <th></th>\n",
       "      <th></th>\n",
       "      <th></th>\n",
       "    </tr>\n",
       "  </thead>\n",
       "  <tbody>\n",
       "    <tr>\n",
       "      <th>0</th>\n",
       "      <td>TOYOTA</td>\n",
       "      <td>Aqua s</td>\n",
       "      <td>Sedan</td>\n",
       "      <td>133000</td>\n",
       "      <td>2014</td>\n",
       "      <td>Automatic</td>\n",
       "      <td>4/5</td>\n",
       "      <td>Right-hand drive</td>\n",
       "      <td>Silver</td>\n",
       "      <td>Black</td>\n",
       "      <td>NaN</td>\n",
       "      <td>0</td>\n",
       "      <td>For Sale</td>\n",
       "      <td>3650.0</td>\n",
       "    </tr>\n",
       "    <tr>\n",
       "      <th>1</th>\n",
       "      <td>MERCEDES-BENZ</td>\n",
       "      <td>C 220</td>\n",
       "      <td>Sedan</td>\n",
       "      <td>24500</td>\n",
       "      <td>2010</td>\n",
       "      <td>Manual</td>\n",
       "      <td>4/5</td>\n",
       "      <td>Left wheel</td>\n",
       "      <td>Silver</td>\n",
       "      <td>Black</td>\n",
       "      <td>NaN</td>\n",
       "      <td>0</td>\n",
       "      <td>For Sale</td>\n",
       "      <td>6800.0</td>\n",
       "    </tr>\n",
       "    <tr>\n",
       "      <th>2</th>\n",
       "      <td>HYUNDAI</td>\n",
       "      <td>Veloster</td>\n",
       "      <td>Hatchback</td>\n",
       "      <td>31000</td>\n",
       "      <td>2016</td>\n",
       "      <td>Tiptronic</td>\n",
       "      <td>2/3</td>\n",
       "      <td>Left wheel</td>\n",
       "      <td>Silver</td>\n",
       "      <td>Black</td>\n",
       "      <td>KMHTC6AE3GU293912</td>\n",
       "      <td>1</td>\n",
       "      <td>For Sale</td>\n",
       "      <td>6300.0</td>\n",
       "    </tr>\n",
       "    <tr>\n",
       "      <th>3</th>\n",
       "      <td>HYUNDAI</td>\n",
       "      <td>Santa FE</td>\n",
       "      <td>Jeep</td>\n",
       "      <td>115459</td>\n",
       "      <td>2015</td>\n",
       "      <td>Automatic</td>\n",
       "      <td>4/5</td>\n",
       "      <td>Left wheel</td>\n",
       "      <td>Blue</td>\n",
       "      <td>Black</td>\n",
       "      <td>NaN</td>\n",
       "      <td>1</td>\n",
       "      <td>For Sale</td>\n",
       "      <td>14488.0</td>\n",
       "    </tr>\n",
       "    <tr>\n",
       "      <th>4</th>\n",
       "      <td>TOYOTA</td>\n",
       "      <td>CHR</td>\n",
       "      <td>Jeep</td>\n",
       "      <td>18950</td>\n",
       "      <td>2019</td>\n",
       "      <td>Automatic</td>\n",
       "      <td>4/5</td>\n",
       "      <td>Left wheel</td>\n",
       "      <td>Black</td>\n",
       "      <td>NaN</td>\n",
       "      <td>JTNKHMBX7K1030253</td>\n",
       "      <td>1</td>\n",
       "      <td>For Sale</td>\n",
       "      <td>5000.0</td>\n",
       "    </tr>\n",
       "  </tbody>\n",
       "</table>\n",
       "</div>"
      ],
      "text/plain": [
       "       vehicle_manufacturer vehicle_model vehicle_category  current_mileage  \\\n",
       "row_ID                                                                        \n",
       "0                    TOYOTA        Aqua s            Sedan           133000   \n",
       "1             MERCEDES-BENZ         C 220            Sedan            24500   \n",
       "2                   HYUNDAI      Veloster        Hatchback            31000   \n",
       "3                   HYUNDAI      Santa FE             Jeep           115459   \n",
       "4                    TOYOTA           CHR             Jeep            18950   \n",
       "\n",
       "        vehicle_year vehicle_gearbox_type doors_cnt                 wheels  \\\n",
       "row_ID                                                                       \n",
       "0               2014            Automatic       4/5    Right-hand drive      \n",
       "1               2010               Manual       4/5           Left wheel     \n",
       "2               2016            Tiptronic       2/3           Left wheel     \n",
       "3               2015            Automatic       4/5           Left wheel     \n",
       "4               2019            Automatic       4/5           Left wheel     \n",
       "\n",
       "       vehicle_color vehicle_interior_color              car_vin  \\\n",
       "row_ID                                                             \n",
       "0            Silver                  Black                   NaN   \n",
       "1            Silver                  Black                   NaN   \n",
       "2            Silver                  Black    KMHTC6AE3GU293912    \n",
       "3              Blue                  Black                   NaN   \n",
       "4             Black                     NaN   JTNKHMBX7K1030253    \n",
       "\n",
       "        car_leather_interior deal_type  final_price  \n",
       "row_ID                                               \n",
       "0                          0  For Sale       3650.0  \n",
       "1                          0  For Sale       6800.0  \n",
       "2                          1  For Sale       6300.0  \n",
       "3                          1  For Sale      14488.0  \n",
       "4                          1  For Sale       5000.0  "
      ]
     },
     "execution_count": 11,
     "metadata": {},
     "output_type": "execute_result"
    }
   ],
   "source": [
    "df_train = pd.read_csv('train_data.csv', index_col='row_ID')\n",
    "df_test = pd.read_csv('test_data.csv', index_col='row_ID')\n",
    "df_train.head()"
   ]
  },
  {
   "cell_type": "code",
   "execution_count": 12,
   "id": "b21e567e",
   "metadata": {},
   "outputs": [
    {
     "data": {
      "text/html": [
       "<div>\n",
       "<style scoped>\n",
       "    .dataframe tbody tr th:only-of-type {\n",
       "        vertical-align: middle;\n",
       "    }\n",
       "\n",
       "    .dataframe tbody tr th {\n",
       "        vertical-align: top;\n",
       "    }\n",
       "\n",
       "    .dataframe thead th {\n",
       "        text-align: right;\n",
       "    }\n",
       "</style>\n",
       "<table border=\"1\" class=\"dataframe\">\n",
       "  <thead>\n",
       "    <tr style=\"text-align: right;\">\n",
       "      <th></th>\n",
       "      <th>vehicle_manufacturer</th>\n",
       "      <th>vehicle_model</th>\n",
       "      <th>vehicle_category</th>\n",
       "      <th>current_mileage</th>\n",
       "      <th>vehicle_year</th>\n",
       "      <th>vehicle_gearbox_type</th>\n",
       "      <th>doors_cnt</th>\n",
       "      <th>wheels</th>\n",
       "      <th>vehicle_color</th>\n",
       "      <th>vehicle_interior_color</th>\n",
       "      <th>car_vin</th>\n",
       "      <th>car_leather_interior</th>\n",
       "      <th>deal_type</th>\n",
       "    </tr>\n",
       "    <tr>\n",
       "      <th>row_ID</th>\n",
       "      <th></th>\n",
       "      <th></th>\n",
       "      <th></th>\n",
       "      <th></th>\n",
       "      <th></th>\n",
       "      <th></th>\n",
       "      <th></th>\n",
       "      <th></th>\n",
       "      <th></th>\n",
       "      <th></th>\n",
       "      <th></th>\n",
       "      <th></th>\n",
       "      <th></th>\n",
       "    </tr>\n",
       "  </thead>\n",
       "  <tbody>\n",
       "    <tr>\n",
       "      <th>35000</th>\n",
       "      <td>TOYOTA</td>\n",
       "      <td>Prius</td>\n",
       "      <td>Hatchback</td>\n",
       "      <td>323733</td>\n",
       "      <td>2012</td>\n",
       "      <td>Automatic</td>\n",
       "      <td>4/5</td>\n",
       "      <td>Left wheel</td>\n",
       "      <td>Grey</td>\n",
       "      <td>Black</td>\n",
       "      <td>JTDKN3DU6C5439638</td>\n",
       "      <td>1</td>\n",
       "      <td>For Sale</td>\n",
       "    </tr>\n",
       "    <tr>\n",
       "      <th>35001</th>\n",
       "      <td>HYUNDAI</td>\n",
       "      <td>Elantra</td>\n",
       "      <td>Sedan</td>\n",
       "      <td>112000</td>\n",
       "      <td>2013</td>\n",
       "      <td>Tiptronic</td>\n",
       "      <td>4/5</td>\n",
       "      <td>Left wheel</td>\n",
       "      <td>Grey</td>\n",
       "      <td>Black</td>\n",
       "      <td>SURATSHIA</td>\n",
       "      <td>1</td>\n",
       "      <td>For Sale</td>\n",
       "    </tr>\n",
       "    <tr>\n",
       "      <th>35002</th>\n",
       "      <td>LEXUS</td>\n",
       "      <td>NX 300</td>\n",
       "      <td>Jeep</td>\n",
       "      <td>16920</td>\n",
       "      <td>2018</td>\n",
       "      <td>Automatic</td>\n",
       "      <td>NaN</td>\n",
       "      <td>Left wheel</td>\n",
       "      <td>Brown</td>\n",
       "      <td>NaN</td>\n",
       "      <td>JTJYARBZ5J2104521</td>\n",
       "      <td>1</td>\n",
       "      <td>For Sale</td>\n",
       "    </tr>\n",
       "    <tr>\n",
       "      <th>35003</th>\n",
       "      <td>LEXUS</td>\n",
       "      <td>CT 200h</td>\n",
       "      <td>Hatchback</td>\n",
       "      <td>302742</td>\n",
       "      <td>2012</td>\n",
       "      <td>Automatic</td>\n",
       "      <td>4/5</td>\n",
       "      <td>Left wheel</td>\n",
       "      <td>White</td>\n",
       "      <td>NaN</td>\n",
       "      <td>JTHKD5BH4C2070945</td>\n",
       "      <td>1</td>\n",
       "      <td>For Sale</td>\n",
       "    </tr>\n",
       "    <tr>\n",
       "      <th>35004</th>\n",
       "      <td>TOYOTA</td>\n",
       "      <td>RAV 4</td>\n",
       "      <td>Jeep</td>\n",
       "      <td>1800</td>\n",
       "      <td>2002</td>\n",
       "      <td>Manual</td>\n",
       "      <td>4/5</td>\n",
       "      <td>Left wheel</td>\n",
       "      <td>Silver</td>\n",
       "      <td>Black</td>\n",
       "      <td>NaN</td>\n",
       "      <td>0</td>\n",
       "      <td>For Sale</td>\n",
       "    </tr>\n",
       "  </tbody>\n",
       "</table>\n",
       "</div>"
      ],
      "text/plain": [
       "       vehicle_manufacturer vehicle_model vehicle_category  current_mileage  \\\n",
       "row_ID                                                                        \n",
       "35000                TOYOTA         Prius        Hatchback           323733   \n",
       "35001               HYUNDAI       Elantra            Sedan           112000   \n",
       "35002                 LEXUS        NX 300             Jeep            16920   \n",
       "35003                 LEXUS       CT 200h        Hatchback           302742   \n",
       "35004                TOYOTA         RAV 4             Jeep             1800   \n",
       "\n",
       "        vehicle_year vehicle_gearbox_type doors_cnt          wheels  \\\n",
       "row_ID                                                                \n",
       "35000           2012            Automatic       4/5    Left wheel     \n",
       "35001           2013            Tiptronic       4/5    Left wheel     \n",
       "35002           2018            Automatic       NaN    Left wheel     \n",
       "35003           2012            Automatic       4/5    Left wheel     \n",
       "35004           2002               Manual       4/5    Left wheel     \n",
       "\n",
       "       vehicle_color vehicle_interior_color              car_vin  \\\n",
       "row_ID                                                             \n",
       "35000          Grey                  Black    JTDKN3DU6C5439638    \n",
       "35001          Grey                  Black            SURATSHIA    \n",
       "35002         Brown                     NaN   JTJYARBZ5J2104521    \n",
       "35003         White                     NaN   JTHKD5BH4C2070945    \n",
       "35004        Silver                  Black                   NaN   \n",
       "\n",
       "        car_leather_interior deal_type  \n",
       "row_ID                                  \n",
       "35000                      1  For Sale  \n",
       "35001                      1  For Sale  \n",
       "35002                      1  For Sale  \n",
       "35003                      1  For Sale  \n",
       "35004                      0  For Sale  "
      ]
     },
     "execution_count": 12,
     "metadata": {},
     "output_type": "execute_result"
    }
   ],
   "source": [
    "df_test.head()"
   ]
  },
  {
   "cell_type": "code",
   "execution_count": 5,
   "id": "eba8aeb6",
   "metadata": {
    "scrolled": false
   },
   "outputs": [
    {
     "name": "stdout",
     "output_type": "stream",
     "text": [
      "<class 'pandas.core.frame.DataFrame'>\n",
      "Int64Index: 35000 entries, 0 to 34999\n",
      "Data columns (total 14 columns):\n",
      " #   Column                  Non-Null Count  Dtype  \n",
      "---  ------                  --------------  -----  \n",
      " 0   vehicle_manufacturer    34999 non-null  object \n",
      " 1   vehicle_model           34993 non-null  object \n",
      " 2   vehicle_category        34999 non-null  object \n",
      " 3   current_mileage         35000 non-null  int64  \n",
      " 4   vehicle_year            35000 non-null  int64  \n",
      " 5   vehicle_gearbox_type    34999 non-null  object \n",
      " 6   doors_cnt               34255 non-null  object \n",
      " 7   wheels                  34999 non-null  object \n",
      " 8   vehicle_color           34599 non-null  object \n",
      " 9   vehicle_interior_color  28282 non-null  object \n",
      " 10  car_vin                 11488 non-null  object \n",
      " 11  car_leather_interior    35000 non-null  int64  \n",
      " 12  deal_type               35000 non-null  object \n",
      " 13  final_price             35000 non-null  float64\n",
      "dtypes: float64(1), int64(3), object(10)\n",
      "memory usage: 4.0+ MB\n"
     ]
    }
   ],
   "source": [
    "df_train.info()"
   ]
  },
  {
   "cell_type": "markdown",
   "id": "dfa7bd4c",
   "metadata": {},
   "source": [
    "# EDA"
   ]
  },
  {
   "cell_type": "code",
   "execution_count": 14,
   "id": "c61da505",
   "metadata": {},
   "outputs": [
    {
     "data": {
      "text/plain": [
       "((35000, 14), (10697, 13))"
      ]
     },
     "execution_count": 14,
     "metadata": {},
     "output_type": "execute_result"
    }
   ],
   "source": [
    "df_train.shape, df_test.shape"
   ]
  },
  {
   "cell_type": "code",
   "execution_count": 18,
   "id": "8c6fee2c",
   "metadata": {},
   "outputs": [
    {
     "data": {
      "text/plain": [
       "(26928, 14)"
      ]
     },
     "execution_count": 18,
     "metadata": {},
     "output_type": "execute_result"
    }
   ],
   "source": [
    "# Drop duplicates\n",
    "df_train.drop_duplicates(inplace=True)\n",
    "df_train.shape"
   ]
  },
  {
   "cell_type": "code",
   "execution_count": 19,
   "id": "b7b6bf07",
   "metadata": {
    "scrolled": true
   },
   "outputs": [
    {
     "data": {
      "text/plain": [
       "vehicle_manufacturer          1\n",
       "vehicle_model                 7\n",
       "vehicle_category              1\n",
       "current_mileage               0\n",
       "vehicle_year                  0\n",
       "vehicle_gearbox_type          1\n",
       "doors_cnt                   370\n",
       "wheels                        1\n",
       "vehicle_color               146\n",
       "vehicle_interior_color     2007\n",
       "car_vin                   22040\n",
       "car_leather_interior          0\n",
       "deal_type                     0\n",
       "final_price                   0\n",
       "dtype: int64"
      ]
     },
     "execution_count": 19,
     "metadata": {},
     "output_type": "execute_result"
    }
   ],
   "source": [
    "df_train.isnull().sum()"
   ]
  },
  {
   "cell_type": "code",
   "execution_count": 20,
   "id": "2cb1e084",
   "metadata": {
    "scrolled": false
   },
   "outputs": [
    {
     "data": {
      "text/plain": [
       "vehicle_manufacturer         1\n",
       "vehicle_model                2\n",
       "vehicle_category             1\n",
       "current_mileage              0\n",
       "vehicle_year                 0\n",
       "vehicle_gearbox_type         1\n",
       "doors_cnt                  223\n",
       "wheels                       1\n",
       "vehicle_color              134\n",
       "vehicle_interior_color    2078\n",
       "car_vin                   7131\n",
       "car_leather_interior         0\n",
       "deal_type                    0\n",
       "dtype: int64"
      ]
     },
     "execution_count": 20,
     "metadata": {},
     "output_type": "execute_result"
    }
   ],
   "source": [
    "df_test.isnull().sum()"
   ]
  },
  {
   "cell_type": "code",
   "execution_count": 42,
   "id": "ae10bea2",
   "metadata": {},
   "outputs": [],
   "source": [
    "X = df_train.iloc[:, :-1]\n",
    "y  = df_train.iloc[:, -1]"
   ]
  },
  {
   "cell_type": "code",
   "execution_count": 43,
   "id": "eca64e03",
   "metadata": {},
   "outputs": [],
   "source": [
    "def sel_col(X, uni_col=15, all_col=False):\n",
    "    if all_col:\n",
    "        col_list = [x for x in X.select_dtypes(include='object').columns]\n",
    "    else:\n",
    "        col_list = [x for x in X.select_dtypes(include='object').columns if X[x].nunique() < uni_col]\n",
    "    num_list = [x for x in X.select_dtypes(include=['int64', 'float64']).columns]\n",
    "    return col_list, num_list"
   ]
  },
  {
   "cell_type": "code",
   "execution_count": 44,
   "id": "ff88a533",
   "metadata": {},
   "outputs": [],
   "source": [
    "col_list, num_list = sel_col(X, all_col=True)"
   ]
  },
  {
   "cell_type": "code",
   "execution_count": 47,
   "id": "a09871bd",
   "metadata": {},
   "outputs": [
    {
     "data": {
      "text/plain": [
       "['current_mileage', 'vehicle_year', 'car_leather_interior']"
      ]
     },
     "execution_count": 47,
     "metadata": {},
     "output_type": "execute_result"
    }
   ],
   "source": [
    "num_list"
   ]
  },
  {
   "cell_type": "code",
   "execution_count": 45,
   "id": "e632ec5a",
   "metadata": {},
   "outputs": [],
   "source": [
    "df_cat = X[col_list]"
   ]
  },
  {
   "cell_type": "code",
   "execution_count": 49,
   "id": "0f7d7f88",
   "metadata": {
    "scrolled": true
   },
   "outputs": [],
   "source": [
    "ordin = OrdinalEncoder()\n",
    "df_cat = pd.DataFrame(ordin.fit_transform(df_cat), index=df_cat.index, columns=df_cat.columns)"
   ]
  },
  {
   "cell_type": "code",
   "execution_count": 50,
   "id": "400ff11d",
   "metadata": {
    "scrolled": true
   },
   "outputs": [
    {
     "data": {
      "text/html": [
       "<div>\n",
       "<style scoped>\n",
       "    .dataframe tbody tr th:only-of-type {\n",
       "        vertical-align: middle;\n",
       "    }\n",
       "\n",
       "    .dataframe tbody tr th {\n",
       "        vertical-align: top;\n",
       "    }\n",
       "\n",
       "    .dataframe thead th {\n",
       "        text-align: right;\n",
       "    }\n",
       "</style>\n",
       "<table border=\"1\" class=\"dataframe\">\n",
       "  <thead>\n",
       "    <tr style=\"text-align: right;\">\n",
       "      <th></th>\n",
       "      <th>vehicle_manufacturer</th>\n",
       "      <th>vehicle_model</th>\n",
       "      <th>vehicle_category</th>\n",
       "      <th>vehicle_gearbox_type</th>\n",
       "      <th>doors_cnt</th>\n",
       "      <th>wheels</th>\n",
       "      <th>vehicle_color</th>\n",
       "      <th>vehicle_interior_color</th>\n",
       "      <th>car_vin</th>\n",
       "      <th>deal_type</th>\n",
       "      <th>current_mileage</th>\n",
       "      <th>vehicle_year</th>\n",
       "      <th>car_leather_interior</th>\n",
       "    </tr>\n",
       "    <tr>\n",
       "      <th>row_ID</th>\n",
       "      <th></th>\n",
       "      <th></th>\n",
       "      <th></th>\n",
       "      <th></th>\n",
       "      <th></th>\n",
       "      <th></th>\n",
       "      <th></th>\n",
       "      <th></th>\n",
       "      <th></th>\n",
       "      <th></th>\n",
       "      <th></th>\n",
       "      <th></th>\n",
       "      <th></th>\n",
       "    </tr>\n",
       "  </thead>\n",
       "  <tbody>\n",
       "    <tr>\n",
       "      <th>0</th>\n",
       "      <td>61.0</td>\n",
       "      <td>366.0</td>\n",
       "      <td>9.0</td>\n",
       "      <td>0.0</td>\n",
       "      <td>1.0</td>\n",
       "      <td>1.0</td>\n",
       "      <td>12.0</td>\n",
       "      <td>1.0</td>\n",
       "      <td>NaN</td>\n",
       "      <td>1.0</td>\n",
       "      <td>133000</td>\n",
       "      <td>2014</td>\n",
       "      <td>0</td>\n",
       "    </tr>\n",
       "    <tr>\n",
       "      <th>1</th>\n",
       "      <td>37.0</td>\n",
       "      <td>455.0</td>\n",
       "      <td>9.0</td>\n",
       "      <td>1.0</td>\n",
       "      <td>1.0</td>\n",
       "      <td>0.0</td>\n",
       "      <td>12.0</td>\n",
       "      <td>1.0</td>\n",
       "      <td>NaN</td>\n",
       "      <td>1.0</td>\n",
       "      <td>24500</td>\n",
       "      <td>2010</td>\n",
       "      <td>0</td>\n",
       "    </tr>\n",
       "    <tr>\n",
       "      <th>2</th>\n",
       "      <td>23.0</td>\n",
       "      <td>2046.0</td>\n",
       "      <td>3.0</td>\n",
       "      <td>2.0</td>\n",
       "      <td>0.0</td>\n",
       "      <td>0.0</td>\n",
       "      <td>12.0</td>\n",
       "      <td>1.0</td>\n",
       "      <td>3359.0</td>\n",
       "      <td>1.0</td>\n",
       "      <td>31000</td>\n",
       "      <td>2016</td>\n",
       "      <td>1</td>\n",
       "    </tr>\n",
       "    <tr>\n",
       "      <th>3</th>\n",
       "      <td>23.0</td>\n",
       "      <td>1817.0</td>\n",
       "      <td>4.0</td>\n",
       "      <td>0.0</td>\n",
       "      <td>1.0</td>\n",
       "      <td>0.0</td>\n",
       "      <td>2.0</td>\n",
       "      <td>1.0</td>\n",
       "      <td>NaN</td>\n",
       "      <td>1.0</td>\n",
       "      <td>115459</td>\n",
       "      <td>2015</td>\n",
       "      <td>1</td>\n",
       "    </tr>\n",
       "    <tr>\n",
       "      <th>4</th>\n",
       "      <td>61.0</td>\n",
       "      <td>525.0</td>\n",
       "      <td>4.0</td>\n",
       "      <td>0.0</td>\n",
       "      <td>1.0</td>\n",
       "      <td>0.0</td>\n",
       "      <td>1.0</td>\n",
       "      <td>NaN</td>\n",
       "      <td>3109.0</td>\n",
       "      <td>1.0</td>\n",
       "      <td>18950</td>\n",
       "      <td>2019</td>\n",
       "      <td>1</td>\n",
       "    </tr>\n",
       "    <tr>\n",
       "      <th>...</th>\n",
       "      <td>...</td>\n",
       "      <td>...</td>\n",
       "      <td>...</td>\n",
       "      <td>...</td>\n",
       "      <td>...</td>\n",
       "      <td>...</td>\n",
       "      <td>...</td>\n",
       "      <td>...</td>\n",
       "      <td>...</td>\n",
       "      <td>...</td>\n",
       "      <td>...</td>\n",
       "      <td>...</td>\n",
       "      <td>...</td>\n",
       "    </tr>\n",
       "    <tr>\n",
       "      <th>34994</th>\n",
       "      <td>6.0</td>\n",
       "      <td>1749.0</td>\n",
       "      <td>9.0</td>\n",
       "      <td>0.0</td>\n",
       "      <td>1.0</td>\n",
       "      <td>0.0</td>\n",
       "      <td>12.0</td>\n",
       "      <td>1.0</td>\n",
       "      <td>NaN</td>\n",
       "      <td>1.0</td>\n",
       "      <td>229677</td>\n",
       "      <td>2011</td>\n",
       "      <td>1</td>\n",
       "    </tr>\n",
       "    <tr>\n",
       "      <th>34995</th>\n",
       "      <td>16.0</td>\n",
       "      <td>1038.0</td>\n",
       "      <td>9.0</td>\n",
       "      <td>0.0</td>\n",
       "      <td>1.0</td>\n",
       "      <td>0.0</td>\n",
       "      <td>1.0</td>\n",
       "      <td>NaN</td>\n",
       "      <td>732.0</td>\n",
       "      <td>1.0</td>\n",
       "      <td>87579</td>\n",
       "      <td>2013</td>\n",
       "      <td>1</td>\n",
       "    </tr>\n",
       "    <tr>\n",
       "      <th>34996</th>\n",
       "      <td>56.0</td>\n",
       "      <td>1704.0</td>\n",
       "      <td>4.0</td>\n",
       "      <td>0.0</td>\n",
       "      <td>1.0</td>\n",
       "      <td>0.0</td>\n",
       "      <td>12.0</td>\n",
       "      <td>1.0</td>\n",
       "      <td>NaN</td>\n",
       "      <td>1.0</td>\n",
       "      <td>116092</td>\n",
       "      <td>2009</td>\n",
       "      <td>1</td>\n",
       "    </tr>\n",
       "    <tr>\n",
       "      <th>34997</th>\n",
       "      <td>5.0</td>\n",
       "      <td>256.0</td>\n",
       "      <td>9.0</td>\n",
       "      <td>2.0</td>\n",
       "      <td>1.0</td>\n",
       "      <td>0.0</td>\n",
       "      <td>7.0</td>\n",
       "      <td>6.0</td>\n",
       "      <td>NaN</td>\n",
       "      <td>1.0</td>\n",
       "      <td>43000</td>\n",
       "      <td>2015</td>\n",
       "      <td>1</td>\n",
       "    </tr>\n",
       "    <tr>\n",
       "      <th>34999</th>\n",
       "      <td>61.0</td>\n",
       "      <td>402.0</td>\n",
       "      <td>9.0</td>\n",
       "      <td>0.0</td>\n",
       "      <td>1.0</td>\n",
       "      <td>0.0</td>\n",
       "      <td>2.0</td>\n",
       "      <td>1.0</td>\n",
       "      <td>NaN</td>\n",
       "      <td>1.0</td>\n",
       "      <td>237178</td>\n",
       "      <td>2015</td>\n",
       "      <td>1</td>\n",
       "    </tr>\n",
       "  </tbody>\n",
       "</table>\n",
       "<p>26928 rows × 13 columns</p>\n",
       "</div>"
      ],
      "text/plain": [
       "        vehicle_manufacturer  vehicle_model  vehicle_category  \\\n",
       "row_ID                                                          \n",
       "0                       61.0          366.0               9.0   \n",
       "1                       37.0          455.0               9.0   \n",
       "2                       23.0         2046.0               3.0   \n",
       "3                       23.0         1817.0               4.0   \n",
       "4                       61.0          525.0               4.0   \n",
       "...                      ...            ...               ...   \n",
       "34994                    6.0         1749.0               9.0   \n",
       "34995                   16.0         1038.0               9.0   \n",
       "34996                   56.0         1704.0               4.0   \n",
       "34997                    5.0          256.0               9.0   \n",
       "34999                   61.0          402.0               9.0   \n",
       "\n",
       "        vehicle_gearbox_type  doors_cnt  wheels  vehicle_color  \\\n",
       "row_ID                                                           \n",
       "0                        0.0        1.0     1.0           12.0   \n",
       "1                        1.0        1.0     0.0           12.0   \n",
       "2                        2.0        0.0     0.0           12.0   \n",
       "3                        0.0        1.0     0.0            2.0   \n",
       "4                        0.0        1.0     0.0            1.0   \n",
       "...                      ...        ...     ...            ...   \n",
       "34994                    0.0        1.0     0.0           12.0   \n",
       "34995                    0.0        1.0     0.0            1.0   \n",
       "34996                    0.0        1.0     0.0           12.0   \n",
       "34997                    2.0        1.0     0.0            7.0   \n",
       "34999                    0.0        1.0     0.0            2.0   \n",
       "\n",
       "        vehicle_interior_color  car_vin  deal_type  current_mileage  \\\n",
       "row_ID                                                                \n",
       "0                          1.0      NaN        1.0           133000   \n",
       "1                          1.0      NaN        1.0            24500   \n",
       "2                          1.0   3359.0        1.0            31000   \n",
       "3                          1.0      NaN        1.0           115459   \n",
       "4                          NaN   3109.0        1.0            18950   \n",
       "...                        ...      ...        ...              ...   \n",
       "34994                      1.0      NaN        1.0           229677   \n",
       "34995                      NaN    732.0        1.0            87579   \n",
       "34996                      1.0      NaN        1.0           116092   \n",
       "34997                      6.0      NaN        1.0            43000   \n",
       "34999                      1.0      NaN        1.0           237178   \n",
       "\n",
       "        vehicle_year  car_leather_interior  \n",
       "row_ID                                      \n",
       "0               2014                     0  \n",
       "1               2010                     0  \n",
       "2               2016                     1  \n",
       "3               2015                     1  \n",
       "4               2019                     1  \n",
       "...              ...                   ...  \n",
       "34994           2011                     1  \n",
       "34995           2013                     1  \n",
       "34996           2009                     1  \n",
       "34997           2015                     1  \n",
       "34999           2015                     1  \n",
       "\n",
       "[26928 rows x 13 columns]"
      ]
     },
     "execution_count": 50,
     "metadata": {},
     "output_type": "execute_result"
    }
   ],
   "source": [
    "X_full = pd.concat([df_cat, X[num_list]], axis=1)\n",
    "X_full"
   ]
  },
  {
   "cell_type": "code",
   "execution_count": 52,
   "id": "118587ba",
   "metadata": {
    "scrolled": false
   },
   "outputs": [
    {
     "data": {
      "text/plain": [
       "vehicle_manufacturer          1\n",
       "vehicle_model                 7\n",
       "vehicle_category              1\n",
       "vehicle_gearbox_type          1\n",
       "doors_cnt                   370\n",
       "wheels                        1\n",
       "vehicle_color               146\n",
       "vehicle_interior_color     2007\n",
       "car_vin                   22040\n",
       "deal_type                     0\n",
       "current_mileage               0\n",
       "vehicle_year                  0\n",
       "car_leather_interior          0\n",
       "dtype: int64"
      ]
     },
     "execution_count": 52,
     "metadata": {},
     "output_type": "execute_result"
    }
   ],
   "source": [
    "X_full.isnull().sum()"
   ]
  },
  {
   "cell_type": "code",
   "execution_count": 61,
   "id": "d991b820",
   "metadata": {},
   "outputs": [],
   "source": [
    "X_full.fillna(0, inplace=True)"
   ]
  },
  {
   "cell_type": "code",
   "execution_count": 76,
   "id": "e2817fec",
   "metadata": {
    "scrolled": true
   },
   "outputs": [
    {
     "data": {
      "text/plain": [
       "<AxesSubplot:>"
      ]
     },
     "execution_count": 76,
     "metadata": {},
     "output_type": "execute_result"
    },
    {
     "data": {
      "image/png": "[encoded data removed]",
      "text/plain": [
       "<Figure size 1080x1080 with 2 Axes>"
      ]
     },
     "metadata": {
      "needs_background": "light"
     },
     "output_type": "display_data"
    }
   ],
   "source": [
    "plt.figure(figsize=(15,15))\n",
    "sns.heatmap(X_full.corr(), annot=True, vmin=-1, center=0)"
   ]
  },
  {
   "cell_type": "code",
   "execution_count": 79,
   "id": "ae07b3a8",
   "metadata": {},
   "outputs": [],
   "source": [
    "X_train, X_valid, y_train, y_valid = train_test_split(X_full, y, train_size=0.7, random_state=35)"
   ]
  },
  {
   "cell_type": "code",
   "execution_count": 93,
   "id": "502a4773",
   "metadata": {},
   "outputs": [],
   "source": [
    "lin_model = LinearRegression()"
   ]
  },
  {
   "cell_type": "code",
   "execution_count": 96,
   "id": "424301cb",
   "metadata": {},
   "outputs": [],
   "source": [
    "las_model = Lasso()"
   ]
  },
  {
   "cell_type": "code",
   "execution_count": 94,
   "id": "a3b64975",
   "metadata": {},
   "outputs": [],
   "source": [
    "sc = StandardScaler()"
   ]
  },
  {
   "cell_type": "code",
   "execution_count": 95,
   "id": "c77d5223",
   "metadata": {},
   "outputs": [],
   "source": [
    "X_train_sc = sc.fit_transform(X_train)"
   ]
  },
  {
   "cell_type": "code",
   "execution_count": 106,
   "id": "2e82afd6",
   "metadata": {},
   "outputs": [],
   "source": [
    "result = cross_val_score(las_model, X_train_sc, y_train, scoring='neg_mean_absolute_error')"
   ]
  },
  {
   "cell_type": "code",
   "execution_count": 107,
   "id": "cae3d0fd",
   "metadata": {},
   "outputs": [
    {
     "data": {
      "text/plain": [
       "-5373.398756528656"
      ]
     },
     "execution_count": 107,
     "metadata": {},
     "output_type": "execute_result"
    }
   ],
   "source": [
    "result.mean()"
   ]
  },
  {
   "cell_type": "code",
   "execution_count": 108,
   "id": "481c0841",
   "metadata": {},
   "outputs": [],
   "source": [
    "rf_model = RandomForestRegressor()"
   ]
  },
  {
   "cell_type": "code",
   "execution_count": 112,
   "id": "34a0d90a",
   "metadata": {},
   "outputs": [],
   "source": [
    "param = {'n_estimators': [50,100,150,200,250,300], 'max_depth': [2,3,4,5,6]}\n",
    "gbm_param = {'model__loss':['ls', 'lad'], 'model__learning_rate': [0.01, 0.1, 1.0], 'model__n_estimators':[50,100,150,200], 'model__max_depth':[2,3,4]}"
   ]
  },
  {
   "cell_type": "code",
   "execution_count": 114,
   "id": "024a4d24",
   "metadata": {},
   "outputs": [
    {
     "data": {
      "text/plain": [
       "GridSearchCV(estimator=RandomForestRegressor(), n_jobs=-1,\n",
       "             param_grid={'max_depth': [2, 3, 4, 5, 6],\n",
       "                         'n_estimators': [50, 100, 150, 200, 250, 300]},\n",
       "             scoring='neg_mean_absolute_error')"
      ]
     },
     "execution_count": 114,
     "metadata": {},
     "output_type": "execute_result"
    }
   ],
   "source": [
    "search = GridSearchCV(rf_model, param, n_jobs=-1, scoring='neg_mean_absolute_error')\n",
    "search.fit(X_train_sc, y_train)"
   ]
  },
  {
   "cell_type": "code",
   "execution_count": 115,
   "id": "3136c085",
   "metadata": {},
   "outputs": [
    {
     "data": {
      "text/plain": [
       "-5089.8430924880195"
      ]
     },
     "execution_count": 115,
     "metadata": {},
     "output_type": "execute_result"
    }
   ],
   "source": [
    "search.best_score_"
   ]
  },
  {
   "cell_type": "markdown",
   "id": "718d5d0c",
   "metadata": {},
   "source": [
    "# Preprocessing for numerical data\n",
    "numerical_transformer = SimpleImputer(strategy='median')\n",
    "\n",
    "# Preprocessing for categorical data\n",
    "categorical_transformer = Pipeline(steps=[\n",
    "    ('imputer', SimpleImputer(strategy='most_frequent')),\n",
    "    ('onehot', OneHotEncoder(handle_unknown='ignore'))\n",
    "])\n",
    "\n",
    "# Bundle preprocessing for numerical and categorical data\n",
    "preprocessor = ColumnTransformer(\n",
    "    transformers=[\n",
    "        ('num', numerical_transformer, num_list),\n",
    "        ('cat', categorical_transformer, col_list)\n",
    "    ])\n"
   ]
  },
  {
   "cell_type": "code",
   "execution_count": null,
   "id": "edf50782",
   "metadata": {},
   "outputs": [],
   "source": []
  },
  {
   "cell_type": "code",
   "execution_count": null,
   "id": "13431ccf",
   "metadata": {},
   "outputs": [],
   "source": []
  },
  {
   "cell_type": "code",
   "execution_count": null,
   "id": "cfb4bc56",
   "metadata": {},
   "outputs": [],
   "source": []
  },
  {
   "cell_type": "code",
   "execution_count": null,
   "id": "0e9122f4",
   "metadata": {},
   "outputs": [],
   "source": []
  },
  {
   "cell_type": "code",
   "execution_count": null,
   "id": "7d6ffab9",
   "metadata": {},
   "outputs": [],
   "source": [
    "# Keep selected columns only\n",
    "\"\"\"my_cols = col_list + num_list\n",
    "X_train = X[my_cols].copy()\n",
    "X_valid = df_test[my_cols].copy()\"\"\""
   ]
  },
  {
   "cell_type": "code",
   "execution_count": 14,
   "id": "376ffe2e",
   "metadata": {},
   "outputs": [],
   "source": [
    "def select_col(df):\n",
    "    categorical_cols = [cname for cname in df.columns if df[cname].dtype == \"object\"]\n",
    "    numerical_cols = [cname for cname in df.columns if df[cname].dtype in ['int64', 'float64']]\n",
    "    return categorical_cols, numerical_cols"
   ]
  },
  {
   "cell_type": "code",
   "execution_count": 18,
   "id": "8c4fc637",
   "metadata": {},
   "outputs": [],
   "source": []
  },
  {
   "cell_type": "code",
   "execution_count": 25,
   "id": "c0f58005",
   "metadata": {},
   "outputs": [
    {
     "data": {
      "text/html": [
       "<div>\n",
       "<style scoped>\n",
       "    .dataframe tbody tr th:only-of-type {\n",
       "        vertical-align: middle;\n",
       "    }\n",
       "\n",
       "    .dataframe tbody tr th {\n",
       "        vertical-align: top;\n",
       "    }\n",
       "\n",
       "    .dataframe thead th {\n",
       "        text-align: right;\n",
       "    }\n",
       "</style>\n",
       "<table border=\"1\" class=\"dataframe\">\n",
       "  <thead>\n",
       "    <tr style=\"text-align: right;\">\n",
       "      <th></th>\n",
       "      <th>vehicle_manufacturer</th>\n",
       "      <th>vehicle_model</th>\n",
       "      <th>vehicle_category</th>\n",
       "      <th>current_mileage</th>\n",
       "      <th>vehicle_year</th>\n",
       "      <th>vehicle_gearbox_type</th>\n",
       "      <th>doors_cnt</th>\n",
       "      <th>wheels</th>\n",
       "      <th>vehicle_color</th>\n",
       "      <th>vehicle_interior_color</th>\n",
       "      <th>car_leather_interior</th>\n",
       "      <th>deal_type</th>\n",
       "    </tr>\n",
       "    <tr>\n",
       "      <th>row_ID</th>\n",
       "      <th></th>\n",
       "      <th></th>\n",
       "      <th></th>\n",
       "      <th></th>\n",
       "      <th></th>\n",
       "      <th></th>\n",
       "      <th></th>\n",
       "      <th></th>\n",
       "      <th></th>\n",
       "      <th></th>\n",
       "      <th></th>\n",
       "      <th></th>\n",
       "    </tr>\n",
       "  </thead>\n",
       "  <tbody>\n",
       "    <tr>\n",
       "      <th>0</th>\n",
       "      <td>TOYOTA</td>\n",
       "      <td>Aqua s</td>\n",
       "      <td>Sedan</td>\n",
       "      <td>133000</td>\n",
       "      <td>2014</td>\n",
       "      <td>Automatic</td>\n",
       "      <td>4/5</td>\n",
       "      <td>Right-hand drive</td>\n",
       "      <td>Silver</td>\n",
       "      <td>Black</td>\n",
       "      <td>0</td>\n",
       "      <td>For Sale</td>\n",
       "    </tr>\n",
       "    <tr>\n",
       "      <th>1</th>\n",
       "      <td>MERCEDES-BENZ</td>\n",
       "      <td>C 220</td>\n",
       "      <td>Sedan</td>\n",
       "      <td>24500</td>\n",
       "      <td>2010</td>\n",
       "      <td>Manual</td>\n",
       "      <td>4/5</td>\n",
       "      <td>Left wheel</td>\n",
       "      <td>Silver</td>\n",
       "      <td>Black</td>\n",
       "      <td>0</td>\n",
       "      <td>For Sale</td>\n",
       "    </tr>\n",
       "    <tr>\n",
       "      <th>2</th>\n",
       "      <td>HYUNDAI</td>\n",
       "      <td>Veloster</td>\n",
       "      <td>Hatchback</td>\n",
       "      <td>31000</td>\n",
       "      <td>2016</td>\n",
       "      <td>Tiptronic</td>\n",
       "      <td>2/3</td>\n",
       "      <td>Left wheel</td>\n",
       "      <td>Silver</td>\n",
       "      <td>Black</td>\n",
       "      <td>1</td>\n",
       "      <td>For Sale</td>\n",
       "    </tr>\n",
       "    <tr>\n",
       "      <th>3</th>\n",
       "      <td>HYUNDAI</td>\n",
       "      <td>Santa FE</td>\n",
       "      <td>Jeep</td>\n",
       "      <td>115459</td>\n",
       "      <td>2015</td>\n",
       "      <td>Automatic</td>\n",
       "      <td>4/5</td>\n",
       "      <td>Left wheel</td>\n",
       "      <td>Blue</td>\n",
       "      <td>Black</td>\n",
       "      <td>1</td>\n",
       "      <td>For Sale</td>\n",
       "    </tr>\n",
       "    <tr>\n",
       "      <th>4</th>\n",
       "      <td>TOYOTA</td>\n",
       "      <td>CHR</td>\n",
       "      <td>Jeep</td>\n",
       "      <td>18950</td>\n",
       "      <td>2019</td>\n",
       "      <td>Automatic</td>\n",
       "      <td>4/5</td>\n",
       "      <td>Left wheel</td>\n",
       "      <td>Black</td>\n",
       "      <td>NaN</td>\n",
       "      <td>1</td>\n",
       "      <td>For Sale</td>\n",
       "    </tr>\n",
       "  </tbody>\n",
       "</table>\n",
       "</div>"
      ],
      "text/plain": [
       "       vehicle_manufacturer vehicle_model vehicle_category  current_mileage  \\\n",
       "row_ID                                                                        \n",
       "0                    TOYOTA        Aqua s            Sedan           133000   \n",
       "1             MERCEDES-BENZ         C 220            Sedan            24500   \n",
       "2                   HYUNDAI      Veloster        Hatchback            31000   \n",
       "3                   HYUNDAI      Santa FE             Jeep           115459   \n",
       "4                    TOYOTA           CHR             Jeep            18950   \n",
       "\n",
       "        vehicle_year vehicle_gearbox_type doors_cnt                 wheels  \\\n",
       "row_ID                                                                       \n",
       "0               2014            Automatic       4/5    Right-hand drive      \n",
       "1               2010               Manual       4/5           Left wheel     \n",
       "2               2016            Tiptronic       2/3           Left wheel     \n",
       "3               2015            Automatic       4/5           Left wheel     \n",
       "4               2019            Automatic       4/5           Left wheel     \n",
       "\n",
       "       vehicle_color vehicle_interior_color  car_leather_interior deal_type  \n",
       "row_ID                                                                       \n",
       "0            Silver                  Black                      0  For Sale  \n",
       "1            Silver                  Black                      0  For Sale  \n",
       "2            Silver                  Black                      1  For Sale  \n",
       "3              Blue                  Black                      1  For Sale  \n",
       "4             Black                     NaN                     1  For Sale  "
      ]
     },
     "execution_count": 25,
     "metadata": {},
     "output_type": "execute_result"
    }
   ],
   "source": [
    "X.head()"
   ]
  },
  {
   "cell_type": "code",
   "execution_count": 29,
   "id": "4ca48901",
   "metadata": {},
   "outputs": [],
   "source": [
    "cat_cols, num_cols = select_col(X)"
   ]
  },
  {
   "cell_type": "code",
   "execution_count": 30,
   "id": "b311cab1",
   "metadata": {},
   "outputs": [
    {
     "data": {
      "text/plain": [
       "['vehicle_manufacturer',\n",
       " 'vehicle_model',\n",
       " 'vehicle_category',\n",
       " 'vehicle_gearbox_type',\n",
       " 'doors_cnt',\n",
       " 'wheels',\n",
       " 'vehicle_color',\n",
       " 'vehicle_interior_color',\n",
       " 'deal_type']"
      ]
     },
     "execution_count": 30,
     "metadata": {},
     "output_type": "execute_result"
    }
   ],
   "source": [
    "cat_cols"
   ]
  },
  {
   "cell_type": "code",
   "execution_count": 31,
   "id": "77db96e0",
   "metadata": {},
   "outputs": [
    {
     "data": {
      "text/plain": [
       "['current_mileage', 'vehicle_year', 'car_leather_interior']"
      ]
     },
     "execution_count": 31,
     "metadata": {},
     "output_type": "execute_result"
    }
   ],
   "source": [
    "num_cols"
   ]
  },
  {
   "cell_type": "code",
   "execution_count": 33,
   "id": "0d278715",
   "metadata": {},
   "outputs": [],
   "source": [
    "X_cat = X[cat_cols]"
   ]
  },
  {
   "cell_type": "code",
   "execution_count": 36,
   "id": "f096c512",
   "metadata": {},
   "outputs": [
    {
     "data": {
      "text/plain": [
       "vehicle_manufacturer        68\n",
       "vehicle_model             2224\n",
       "vehicle_category            11\n",
       "vehicle_gearbox_type         4\n",
       "doors_cnt                    3\n",
       "wheels                       2\n",
       "vehicle_color               16\n",
       "vehicle_interior_color      11\n",
       "deal_type                    2\n",
       "dtype: int64"
      ]
     },
     "execution_count": 36,
     "metadata": {},
     "output_type": "execute_result"
    }
   ],
   "source": [
    "X_cat.nunique()"
   ]
  },
  {
   "cell_type": "code",
   "execution_count": null,
   "id": "1fe81f1e",
   "metadata": {},
   "outputs": [],
   "source": []
  }
 ],
 "metadata": {
  "kernelspec": {
   "display_name": "Python 3 (ipykernel)",
   "language": "python",
   "name": "python3"
  },
  "language_info": {
   "codemirror_mode": {
    "name": "ipython",
    "version": 3
   },
   "file_extension": ".py",
   "mimetype": "text/x-python",
   "name": "python",
   "nbconvert_exporter": "python",
   "pygments_lexer": "ipython3",
   "version": "3.9.7"
  }
 },
 "nbformat": 4,
 "nbformat_minor": 5
}
